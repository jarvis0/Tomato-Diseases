{
 "cells": [
  {
   "cell_type": "code",
   "execution_count": 90,
   "metadata": {},
   "outputs": [],
   "source": [
    "import pandas as pd"
   ]
  },
  {
   "cell_type": "code",
   "execution_count": 163,
   "metadata": {},
   "outputs": [
    {
     "data": {
      "text/html": [
       "<div>\n",
       "<style scoped>\n",
       "    .dataframe tbody tr th:only-of-type {\n",
       "        vertical-align: middle;\n",
       "    }\n",
       "\n",
       "    .dataframe tbody tr th {\n",
       "        vertical-align: top;\n",
       "    }\n",
       "\n",
       "    .dataframe thead th {\n",
       "        text-align: right;\n",
       "    }\n",
       "</style>\n",
       "<table border=\"1\" class=\"dataframe\">\n",
       "  <thead>\n",
       "    <tr style=\"text-align: right;\">\n",
       "      <th></th>\n",
       "      <th>URL</th>\n",
       "      <th>Actual Label</th>\n",
       "      <th>Predicted Label</th>\n",
       "    </tr>\n",
       "  </thead>\n",
       "  <tbody>\n",
       "    <tr>\n",
       "      <th>0</th>\n",
       "      <td>https://bugwoodcloud.org/images/768x512/123409...</td>\n",
       "      <td>Tomato___Bacterial_spot</td>\n",
       "      <td>Strawberry___Leaf_scorch</td>\n",
       "    </tr>\n",
       "    <tr>\n",
       "      <th>1</th>\n",
       "      <td>https://bugwoodcloud.org/images/768x512/123410...</td>\n",
       "      <td>Tomato___Bacterial_spot</td>\n",
       "      <td>Strawberry___Leaf_scorch</td>\n",
       "    </tr>\n",
       "    <tr>\n",
       "      <th>2</th>\n",
       "      <td>https://bugwoodcloud.org/images/768x512/526002...</td>\n",
       "      <td>Tomato___Bacterial_spot</td>\n",
       "      <td>Tomato___Early_blight</td>\n",
       "    </tr>\n",
       "    <tr>\n",
       "      <th>3</th>\n",
       "      <td>https://bugwoodcloud.org/images/768x512/526002...</td>\n",
       "      <td>Tomato___Bacterial_spot</td>\n",
       "      <td>Strawberry___Leaf_scorch</td>\n",
       "    </tr>\n",
       "    <tr>\n",
       "      <th>4</th>\n",
       "      <td>https://bugwoodcloud.org/images/768x512/526002...</td>\n",
       "      <td>Tomato___Bacterial_spot</td>\n",
       "      <td>Tomato___Septoria_leaf_spot</td>\n",
       "    </tr>\n",
       "  </tbody>\n",
       "</table>\n",
       "</div>"
      ],
      "text/plain": [
       "                                                 URL             Actual Label  \\\n",
       "0  https://bugwoodcloud.org/images/768x512/123409...  Tomato___Bacterial_spot   \n",
       "1  https://bugwoodcloud.org/images/768x512/123410...  Tomato___Bacterial_spot   \n",
       "2  https://bugwoodcloud.org/images/768x512/526002...  Tomato___Bacterial_spot   \n",
       "3  https://bugwoodcloud.org/images/768x512/526002...  Tomato___Bacterial_spot   \n",
       "4  https://bugwoodcloud.org/images/768x512/526002...  Tomato___Bacterial_spot   \n",
       "\n",
       "               Predicted Label  \n",
       "0     Strawberry___Leaf_scorch  \n",
       "1     Strawberry___Leaf_scorch  \n",
       "2        Tomato___Early_blight  \n",
       "3     Strawberry___Leaf_scorch  \n",
       "4  Tomato___Septoria_leaf_spot  "
      ]
     },
     "execution_count": 163,
     "metadata": {},
     "output_type": "execute_result"
    }
   ],
   "source": [
    "df = pd.read_csv('ipm.csv')\n",
    "\n",
    "df.head(5)"
   ]
  },
  {
   "cell_type": "code",
   "execution_count": 165,
   "metadata": {},
   "outputs": [
    {
     "data": {
      "text/plain": [
       "24"
      ]
     },
     "execution_count": 165,
     "metadata": {},
     "output_type": "execute_result"
    }
   ],
   "source": [
    "urls = df.loc[:,['URL', 'Actual Label']].values\n",
    "len(urls[0:][:])"
   ]
  },
  {
   "cell_type": "code",
   "execution_count": 168,
   "metadata": {},
   "outputs": [
    {
     "name": "stdout",
     "output_type": "stream",
     "text": [
      "https://bugwoodcloud.org/images/768x512/1234099.jpg\n",
      "Tomato___Bacterial_spot\n",
      "https://bugwoodcloud.org/images/768x512/1234100.jpg\n",
      "Tomato___Bacterial_spot\n",
      "https://bugwoodcloud.org/images/768x512/5260022.jpg\n",
      "Tomato___Bacterial_spot\n",
      "https://bugwoodcloud.org/images/768x512/5260027.jpg\n",
      "Tomato___Bacterial_spot\n",
      "https://bugwoodcloud.org/images/768x512/5260029.jpg\n",
      "Tomato___Bacterial_spot\n",
      "https://bugwoodcloud.org/images/768x512/1573852.jpg\n",
      "Tomato___Early_blight\n",
      "https://bugwoodcloud.org/images/768x512/1576391.jpg\n",
      "Tomato___Early_blight\n",
      "https://bugwoodcloud.org/images/768x512/5369148.jpg\n",
      "Tomato___Early_blight\n",
      "https://bugwoodcloud.org/images/768x512/1233052.jpg\n",
      "Tomato___Early_blight\n",
      "https://bugwoodcloud.org/images/768x512/1234080.jpg\n",
      "Tomato___Early_blight\n",
      "https://bugwoodcloud.org/images/768x512/1234124.jpg\n",
      "Tomato___Early_blight\n",
      "https://bugwoodcloud.org/images/768x512/1436104.jpg\n",
      "Tomato___Early_blight\n",
      "https://bugwoodcloud.org/images/768x512/5470380.jpg\n",
      "Tomato___Late_blight\n",
      "https://bugwoodcloud.org/images/768x512/5470381.jpg\n",
      "Tomato___Late_blight\n",
      "https://bugwoodcloud.org/images/768x512/5484090.jpg\n",
      "Tomato___Late_blight\n",
      "https://bugwoodcloud.org/images/768x512/1577904.jpg\n",
      "Tomato___Late_blight\n",
      "https://bugwoodcloud.org/images/768x512/5505700.jpg\n",
      "Tomato___Leaf_Mold\n",
      "https://bugwoodcloud.org/images/768x512/5487925.jpg\n",
      "Tomato___Leaf_Mold\n",
      "https://bugwoodcloud.org/images/768x512/5487927.jpg\n",
      "Tomato___Leaf_Mold\n",
      "https://bugwoodcloud.org/images/768x512/5505707.jpg\n",
      "Tomato___Leaf_Mold\n",
      "https://bugwoodcloud.org/images/768x512/5356801.jpg\n",
      "Tomato___Septoria_leaf_spot\n",
      "https://bugwoodcloud.org/images/768x512/5357038.jpg\n",
      "Tomato___Septoria_leaf_spot\n",
      "https://bugwoodcloud.org/images/768x512/5507223.jpg\n",
      "Tomato___Septoria_leaf_spot\n",
      "https://bugwoodcloud.org/images/768x512/5373690.jpg\n",
      "Tomato___Septoria_leaf_spot\n"
     ]
    }
   ],
   "source": [
    "import urllib.request\n",
    "import os\n",
    "import shutil\n",
    "\n",
    "i = 50\n",
    "for url in urls[0:][:]:\n",
    "    try:\n",
    "        if not os.path.exists(url[1]):\n",
    "            os.mkdir(url[1])\n",
    "        urllib.request.urlretrieve(url[0], url[1] + '/' + str(i) + '.jpg')\n",
    "        i += 1\n",
    "    except urllib.request.HTTPError:\n",
    "        print(url[0])\n",
    "        print(url[1])"
   ]
  },
  {
   "cell_type": "code",
   "execution_count": null,
   "metadata": {},
   "outputs": [],
   "source": []
  }
 ],
 "metadata": {
  "kernelspec": {
   "display_name": "Python 3",
   "language": "python",
   "name": "python3"
  },
  "language_info": {
   "codemirror_mode": {
    "name": "ipython",
    "version": 3
   },
   "file_extension": ".py",
   "mimetype": "text/x-python",
   "name": "python",
   "nbconvert_exporter": "python",
   "pygments_lexer": "ipython3",
   "version": "3.6.4"
  }
 },
 "nbformat": 4,
 "nbformat_minor": 2
}
