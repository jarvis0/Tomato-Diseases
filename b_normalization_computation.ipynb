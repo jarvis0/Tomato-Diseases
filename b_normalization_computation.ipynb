{
 "cells": [
  {
   "cell_type": "code",
   "execution_count": 1,
   "metadata": {},
   "outputs": [],
   "source": [
    "import torch\n",
    "import torchvision.transforms as transforms\n",
    "import torchvision.datasets as datasets\n",
    "import numpy as np\n",
    "import os"
   ]
  },
  {
   "cell_type": "code",
   "execution_count": 2,
   "metadata": {},
   "outputs": [],
   "source": [
    "device = torch.device(\"cuda:0\" if torch.cuda.is_available() else \"cpu\")\n",
    "data_dir = 'data/'"
   ]
  },
  {
   "cell_type": "code",
   "execution_count": 3,
   "metadata": {},
   "outputs": [
    {
     "name": "stdout",
     "output_type": "stream",
     "text": [
      "[0.14304061 0.19164301 0.10920697]\n",
      "[0.20639636 0.25961578 0.15823205]\n"
     ]
    }
   ],
   "source": [
    "data_transforms = {\n",
    "    'train': transforms.Compose([\n",
    "        transforms.ToTensor(),\n",
    "    ]),\n",
    "    'val': transforms.Compose([\n",
    "        transforms.ToTensor(),\n",
    "    ])\n",
    "}\n",
    "\n",
    "image_dataset = {x: datasets.ImageFolder(os.path.join(data_dir, x),\n",
    "                    data_transforms[x]) for x in ['train', 'val']}\n",
    "\n",
    "dataloader = {x: torch.utils.data.DataLoader(image_dataset[x], batch_size=64, shuffle=False, num_workers=4) for x in ['train', 'val']}\n",
    "\n",
    "pop_mean = []\n",
    "pop_std0 = []\n",
    "for phase in ['train', 'val']:\n",
    "    for data in dataloader[phase]:\n",
    "        img, labels = data\n",
    "        #shape (batch_size, 3, height, width\n",
    "        numpy_image = img.numpy()\n",
    "\n",
    "        # shape (3,)\n",
    "        batch_mean = np.mean(numpy_image, axis=(0,2,3))\n",
    "        batch_std0 = np.std(numpy_image, axis=(0,2,3))\n",
    "z\n",
    "        pop_mean.append(batch_mean)\n",
    "        pop_std0.append(batch_std0)\n",
    "\n",
    "# shape (num_iterations, 3) -> (mean across 0th axis) -> shape (3,)\n",
    "pop_mean = np.array(pop_mean).mean(axis=0)\n",
    "pop_std0 = np.array(pop_std0).mean(axis=0)\n",
    "\n",
    "print(pop_mean)\n",
    "print(pop_std0)"
   ]
  },
  {
   "cell_type": "code",
   "execution_count": null,
   "metadata": {},
   "outputs": [],
   "source": []
  }
 ],
 "metadata": {
  "kernelspec": {
   "display_name": "Python 3",
   "language": "python",
   "name": "python3"
  },
  "language_info": {
   "codemirror_mode": {
    "name": "ipython",
    "version": 3
   },
   "file_extension": ".py",
   "mimetype": "text/x-python",
   "name": "python",
   "nbconvert_exporter": "python",
   "pygments_lexer": "ipython3",
   "version": "3.6.4"
  }
 },
 "nbformat": 4,
 "nbformat_minor": 2
}
