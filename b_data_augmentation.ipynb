{
 "cells": [
  {
   "cell_type": "code",
   "execution_count": 5,
   "metadata": {},
   "outputs": [],
   "source": [
    "from PIL import Image\n",
    "from matplotlib.pyplot import imshow\n",
    "import numpy as np\n",
    "import math\n",
    "import os\n",
    "import shutil\n",
    "import random"
   ]
  },
  {
   "cell_type": "code",
   "execution_count": 6,
   "metadata": {},
   "outputs": [],
   "source": [
    "classes = os.listdir('data/train/')\n",
    "destination = 'augmented_data/'\n",
    "\n",
    "if os.path.exists(destination):\n",
    "    shutil.rmtree(destination)\n",
    "os.mkdir(destination)\n",
    "\n",
    "random.seed(a=1234)\n",
    "os.mkdir(destination + 'train/')\n",
    "os.mkdir(destination + 'val/')\n",
    "for s in ['train', 'val']:\n",
    "    for clss in classes:\n",
    "        os.mkdir(destination + s + '/' + clss)\n",
    "        src = 'data/' + s + '/' + clss + '/'\n",
    "        dst = destination + s + '/' + clss + '/'\n",
    "        counter = 0\n",
    "        for image in os.listdir(src):\n",
    "            im = Image.open(src + image)\n",
    "            im.save(dst + str(counter) + '_ORIGINAL.jpg', 'JPEG')\n",
    "\n",
    "            transf = random.randint(1, 4)\n",
    "\n",
    "            if transf == 1:\n",
    "                out = im.transpose(Image.FLIP_TOP_BOTTOM)\n",
    "                out.save(dst + str(counter) + '_FLIP_TOP_BOTTOM.jpg', 'JPEG')\n",
    "\n",
    "                out = im.transpose(Image.ROTATE_90)\n",
    "                out.save(dst + str(counter) + '_ROTATE_90.jpg', 'JPEG')\n",
    "\n",
    "            if transf == 2:\n",
    "                out = im.transpose(Image.FLIP_LEFT_RIGHT)\n",
    "                out.save(dst + str(counter) + '_FLIP_LEFT_RIGHT.jpg', 'JPEG')\n",
    "\n",
    "                out = im.transpose(Image.ROTATE_180)\n",
    "                out.save(dst + str(counter) + '_ROTATE_180.jpg', 'JPEG')\n",
    "\n",
    "            if transf == 3:\n",
    "                out = im.transpose(Image.ROTATE_90)\n",
    "                out = out.transpose(Image.FLIP_TOP_BOTTOM)\n",
    "                out.save(dst + str(counter) + '_ROTATE_90_TOP_BOTTOM.jpg', 'JPEG')\n",
    "\n",
    "                out = im.transpose(Image.ROTATE_270)\n",
    "                out = out.transpose(Image.FLIP_TOP_BOTTOM)\n",
    "                out.save(dst + str(counter) + '_ROTATE_270_TOP_BOTTOM.jpg', 'JPEG')\n",
    "\n",
    "            if transf == 4:\n",
    "                out = im.transpose(Image.ROTATE_270)\n",
    "                out.save(dst + str(counter) + '_ROTATE_270.jpg', 'JPEG')\n",
    "\n",
    "                out = im.transpose(Image.FLIP_LEFT_RIGHT)\n",
    "                out.save(dst + str(counter) + '_FLIP_LEFT_RIGHT.jpg', 'JPEG')\n",
    "\n",
    "            counter += 1\n"
   ]
  },
  {
   "cell_type": "code",
   "execution_count": null,
   "metadata": {},
   "outputs": [],
   "source": []
  }
 ],
 "metadata": {
  "kernelspec": {
   "display_name": "Python 3",
   "language": "python",
   "name": "python3"
  },
  "language_info": {
   "codemirror_mode": {
    "name": "ipython",
    "version": 3
   },
   "file_extension": ".py",
   "mimetype": "text/x-python",
   "name": "python",
   "nbconvert_exporter": "python",
   "pygments_lexer": "ipython3",
   "version": "3.6.4"
  }
 },
 "nbformat": 4,
 "nbformat_minor": 2
}
