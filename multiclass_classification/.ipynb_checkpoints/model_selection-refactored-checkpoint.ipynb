{
 "cells": [
  {
   "cell_type": "code",
   "execution_count": 37,
   "metadata": {},
   "outputs": [],
   "source": [
    "import numpy as np\n",
    "import json\n",
    "import os"
   ]
  },
  {
   "cell_type": "code",
   "execution_count": 38,
   "metadata": {},
   "outputs": [],
   "source": [
    "def print_to_file(to_file, filename='model_selection'):\n",
    "    f = open(filename, 'a')\n",
    "    f.write(str(to_file))\n",
    "    f.close()"
   ]
  },
  {
   "cell_type": "code",
   "execution_count": 1,
   "metadata": {},
   "outputs": [
    {
     "ename": "NameError",
     "evalue": "name 'os' is not defined",
     "output_type": "error",
     "traceback": [
      "\u001b[0;31m---------------------------------------------------------------------------\u001b[0m",
      "\u001b[0;31mNameError\u001b[0m                                 Traceback (most recent call last)",
      "\u001b[0;32m<ipython-input-1-f946f11318ab>\u001b[0m in \u001b[0;36m<module>\u001b[0;34m()\u001b[0m\n\u001b[1;32m      1\u001b[0m \u001b[0mdata_dir\u001b[0m \u001b[0;34m=\u001b[0m \u001b[0;34m'log/'\u001b[0m\u001b[0;34m\u001b[0m\u001b[0m\n\u001b[0;32m----> 2\u001b[0;31m \u001b[0mexperiments\u001b[0m \u001b[0;34m=\u001b[0m \u001b[0mos\u001b[0m\u001b[0;34m.\u001b[0m\u001b[0mlistdir\u001b[0m\u001b[0;34m(\u001b[0m\u001b[0mdata_dir\u001b[0m\u001b[0;34m)\u001b[0m\u001b[0;34m\u001b[0m\u001b[0m\n\u001b[0m\u001b[1;32m      3\u001b[0m \u001b[0;32mfor\u001b[0m \u001b[0mexperiment\u001b[0m \u001b[0;32min\u001b[0m \u001b[0mexperiments\u001b[0m\u001b[0;34m:\u001b[0m\u001b[0;34m\u001b[0m\u001b[0m\n\u001b[1;32m      4\u001b[0m \u001b[0;34m\u001b[0m\u001b[0m\n\u001b[1;32m      5\u001b[0m     \u001b[0;32mwith\u001b[0m \u001b[0mopen\u001b[0m\u001b[0;34m(\u001b[0m\u001b[0mdata_dir\u001b[0m \u001b[0;34m+\u001b[0m \u001b[0mexperiment\u001b[0m \u001b[0;34m+\u001b[0m \u001b[0;34m'/infos'\u001b[0m\u001b[0;34m)\u001b[0m \u001b[0;32mas\u001b[0m \u001b[0mf\u001b[0m\u001b[0;34m:\u001b[0m\u001b[0;34m\u001b[0m\u001b[0m\n",
      "\u001b[0;31mNameError\u001b[0m: name 'os' is not defined"
     ]
    }
   ],
   "source": [
    "data_dir = 'log/'\n",
    "experiments = os.listdir(data_dir) \n",
    "for experiment in experiments:\n",
    "    \n",
    "    with open(data_dir + experiment + '/infos') as f:\n",
    "        infos = json.loads(f.readline().replace(\"'\", '\"'))\n",
    "\n",
    "    num_epochs = infos['num_epochs']\n",
    "    with open(data_dir + experiment + '/performances') as f:\n",
    "        performances = json.loads(f.readline().replace(\"'\", '\"'))\n",
    "\n",
    "    print_to_file('Experiment: {}'.format(experiment))\n",
    "    print_to_file('\\nInfos: {}'.format(infos))\n",
    "        \n",
    "    best_epoch = performances.index(max(performances))\n",
    "    print_to_file('\\nStatistical best epoch: {}'.format(best_epoch))"
   ]
  },
  {
   "cell_type": "code",
   "execution_count": 40,
   "metadata": {},
   "outputs": [],
   "source": [
    "    with open(data_dir + experiment + '/confusion_matrices') as f:\n",
    "        data = json.loads(f.readline().replace(\"'\", '\"'))\n",
    "\n",
    "    conf_matrices = {}\n",
    "    for epoch in range(num_epochs):\n",
    "        conf_matrices[epoch] = data[str(epoch)]\n",
    "\n",
    "    conf_matrix = conf_matrices[best_epoch]"
   ]
  },
  {
   "cell_type": "code",
   "execution_count": 41,
   "metadata": {},
   "outputs": [],
   "source": [
    "    num_classes = 10\n",
    "    num_samples = 0\n",
    "    for i in range(num_classes):\n",
    "        for j in range(num_classes):\n",
    "            num_samples += conf_matrix[i][j]"
   ]
  },
  {
   "cell_type": "code",
   "execution_count": 42,
   "metadata": {},
   "outputs": [],
   "source": [
    "    accuracy = 0\n",
    "    for i in range(num_classes):\n",
    "        accuracy += conf_matrix[i][i]\n",
    "    accuracy /= num_samples\n",
    "\n",
    "    print_to_file('\\nAccuracy: {} +-{}'.format(np.asarray(accuracy).mean(), np.asarray(accuracy).std()))"
   ]
  },
  {
   "cell_type": "code",
   "execution_count": 43,
   "metadata": {},
   "outputs": [],
   "source": [
    "    macro_precision = 0\n",
    "    precision_total = [0] * num_classes\n",
    "    precision = [0] * num_classes\n",
    "    for i in range(num_classes):\n",
    "        precision[i] = conf_matrix[i][i]\n",
    "        for j in range(num_classes):\n",
    "            precision_total[i] += conf_matrix[j][i]\n",
    "        if precision_total[i] != 0:\n",
    "            precision[i] /= precision_total[i]\n",
    "        else:\n",
    "            precision[i] = float('NaN')\n",
    "        macro_precision += precision[i] / num_classes\n",
    "\n",
    "    print_to_file('\\nMacro precision: {} +-{}'.format(np.asarray(macro_precision).mean(), np.asarray(macro_precision).std()))"
   ]
  },
  {
   "cell_type": "code",
   "execution_count": 44,
   "metadata": {},
   "outputs": [],
   "source": [
    "    macro_recall = 0\n",
    "    recall_total = [0] * num_classes\n",
    "    recall = [0] * num_classes\n",
    "    for i in range(num_classes):\n",
    "        recall[i] = conf_matrix[i][i]\n",
    "        for j in range(num_classes):\n",
    "            recall_total[i] += conf_matrix[i][j]\n",
    "        if recall_total[i] != 0:\n",
    "            recall[i] /= recall_total[i]\n",
    "        else:\n",
    "            recall[i] = float('NaN')\n",
    "        macro_recall += recall[i] / num_classes\n",
    "\n",
    "    print_to_file('\\nMacro recall: {} +-{}'.format(np.asarray(macro_recall).mean(), np.asarray(macro_recall).std()))"
   ]
  },
  {
   "cell_type": "code",
   "execution_count": 45,
   "metadata": {},
   "outputs": [],
   "source": [
    "    macro_f = 0\n",
    "    f = [0] * num_classes\n",
    "    for i in range(num_classes):\n",
    "        if precision[i] + recall [i] != 0:\n",
    "            f[i] = 2 * precision[i] * recall[i] / (precision[i] + recall[i])\n",
    "        else:\n",
    "            f[i] = float('NaN')\n",
    "        macro_f += f[i] / num_classes\n",
    "\n",
    "    print_to_file('\\nMacro F1: {} +-{}\\n\\n'.format(np.asarray(macro_f).mean(), np.asarray(macro_f).std()))"
   ]
  },
  {
   "cell_type": "code",
   "execution_count": 46,
   "metadata": {},
   "outputs": [
    {
     "name": "stdout",
     "output_type": "stream",
     "text": [
      "Statistics saved to file.\n"
     ]
    }
   ],
   "source": [
    "print('Statistics saved to file.')"
   ]
  },
  {
   "cell_type": "code",
   "execution_count": null,
   "metadata": {},
   "outputs": [],
   "source": []
  }
 ],
 "metadata": {
  "kernelspec": {
   "display_name": "Python 3",
   "language": "python",
   "name": "python3"
  },
  "language_info": {
   "codemirror_mode": {
    "name": "ipython",
    "version": 3
   },
   "file_extension": ".py",
   "mimetype": "text/x-python",
   "name": "python",
   "nbconvert_exporter": "python",
   "pygments_lexer": "ipython3",
   "version": "3.6.3"
  }
 },
 "nbformat": 4,
 "nbformat_minor": 2
}
