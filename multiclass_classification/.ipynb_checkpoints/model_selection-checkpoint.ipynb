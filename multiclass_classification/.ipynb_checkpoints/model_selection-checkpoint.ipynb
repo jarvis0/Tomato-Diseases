{
 "cells": [
  {
   "cell_type": "code",
   "execution_count": 1,
   "metadata": {},
   "outputs": [],
   "source": [
    "import numpy as np\n",
    "import json\n",
    "import os"
   ]
  },
  {
   "cell_type": "code",
   "execution_count": 2,
   "metadata": {},
   "outputs": [],
   "source": [
    "def print_to_file(to_file, filename='model_selection'):\n",
    "    f = open(filename, 'a')\n",
    "    f.write(str(to_file))\n",
    "    f.close()"
   ]
  },
  {
   "cell_type": "code",
   "execution_count": 13,
   "metadata": {},
   "outputs": [],
   "source": [
    "data_dir = 'log/'\n",
    "num_folds = 5\n",
    "\n",
    "experiments = os.listdir(data_dir)\n",
    "for experiment in experiments:\n",
    "    \n",
    "    with open(data_dir + experiment + '/infos') as f:\n",
    "        infos = json.loads(f.readline().replace(\"'\", '\"'))\n",
    "    \n",
    "    with open(data_dir + experiment + '/folds_performances') as f:\n",
    "        data = json.loads(f.readline().replace(\"'\", '\"'))\n",
    "    \n",
    "    performances = {}\n",
    "    for i in range(num_folds):\n",
    "        performances[i] = data[str(i)]\n",
    "\n",
    "    num_epochs = infos['num_epochs']\n",
    "    total_epoch_performace = [0] * num_epochs\n",
    "    for epoch in range(num_epochs):\n",
    "        for k in range (num_folds):\n",
    "            total_epoch_performace[epoch] += performances[k][epoch]\n",
    "        total_epoch_performace[epoch] /= num_folds\n",
    "    \n",
    "    total_max_performance = [0] * num_folds\n",
    "    for k in  range (num_folds):\n",
    "        total_max_performance[k] = performances[k].index(max(performances[k]))\n",
    "\n",
    "    print_to_file('Experiment: {}'.format(experiment))\n",
    "    print_to_file('\\nInfos: {}'.format(infos))\n",
    "    print_to_file('\\nBest epoch: {}'.format(total_epoch_performace.index(max(total_epoch_performace))))\n",
    "    print_to_file('\\nMitchell average best number of epochs: {}'.format(\n",
    "                                                                sum(total_max_performance) / num_folds))\n",
    "    print_to_file('\\nAverage accuracy @ best epoch: {}'.format(max(total_epoch_performace)))\n",
    "    \n",
    "    total_fold_performance = [0] * num_folds\n",
    "    for k in range(num_folds):\n",
    "        total_fold_performance[k] = performances[k][total_epoch_performace.index(max(total_epoch_performace))]\n",
    "    print_to_file('\\nStandard Deviation: {}\\n\\n'.format(np.asarray(total_fold_performance).std()))"
   ]
  },
  {
   "cell_type": "code",
   "execution_count": 14,
   "metadata": {},
   "outputs": [
    {
     "ename": "SyntaxError",
     "evalue": "invalid syntax (<ipython-input-14-8f6d30f90c72>, line 9)",
     "output_type": "error",
     "traceback": [
      "\u001b[1;36m  File \u001b[1;32m\"<ipython-input-14-8f6d30f90c72>\"\u001b[1;36m, line \u001b[1;32m9\u001b[0m\n\u001b[1;33m    print('confusion_matrices', conf_matrices[][0])\u001b[0m\n\u001b[1;37m                                              ^\u001b[0m\n\u001b[1;31mSyntaxError\u001b[0m\u001b[1;31m:\u001b[0m invalid syntax\n"
     ]
    }
   ],
   "source": [
    "with open(data_dir + experiment + '/confusion_matrices') as f:\n",
    "    data = json.loads(f.readline().replace(\"'\", '\"'))\n",
    "\n",
    "conf_matrices = {}\n",
    "for k in range(num_folds):\n",
    "    conf_matrices[k] = {}\n",
    "    for epoch in range(num_epochs):\n",
    "         conf_matrices[k][epoch] = data[str(k)][str(epoch)]\n",
    "print('confusion_matrices', conf_matrices[][0])\n",
    "\n",
    "print('Statistics saved to file.')"
   ]
  },
  {
   "cell_type": "code",
   "execution_count": null,
   "metadata": {},
   "outputs": [],
   "source": []
  }
 ],
 "metadata": {
  "kernelspec": {
   "display_name": "Python 3",
   "language": "python",
   "name": "python3"
  },
  "language_info": {
   "codemirror_mode": {
    "name": "ipython",
    "version": 3
   },
   "file_extension": ".py",
   "mimetype": "text/x-python",
   "name": "python",
   "nbconvert_exporter": "python",
   "pygments_lexer": "ipython3",
   "version": "3.6.4"
  }
 },
 "nbformat": 4,
 "nbformat_minor": 2
}
