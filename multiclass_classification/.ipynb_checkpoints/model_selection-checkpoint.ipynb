{
 "cells": [
  {
   "cell_type": "code",
   "execution_count": 6,
   "metadata": {},
   "outputs": [],
   "source": [
    "import numpy as np\n",
    "import json\n",
    "import os"
   ]
  },
  {
   "cell_type": "code",
   "execution_count": 7,
   "metadata": {},
   "outputs": [],
   "source": [
    "def print_to_file(to_file, filename='model_selection'):\n",
    "    f = open(filename, 'a')\n",
    "    f.write(str(to_file))\n",
    "    f.close()"
   ]
  },
  {
   "cell_type": "code",
   "execution_count": 8,
   "metadata": {},
   "outputs": [],
   "source": [
    "data_dir = 'log/'\n",
    "num_folds = 5\n",
    "\n",
    "experiments = os.listdir(data_dir)\n",
    "for experiment in experiments:\n",
    "    \n",
    "    with open(data_dir + experiment + '/infos') as f:\n",
    "        infos = json.loads(f.readline().replace(\"'\", '\"'))\n",
    "    \n",
    "    with open(data_dir + experiment + '/folds_performances') as f:\n",
    "        data = json.loads(f.readline().replace(\"'\", '\"'))\n",
    "    \n",
    "    performances = {}\n",
    "    for i in range(num_folds):\n",
    "        performances[i] = data[str(i)]\n",
    "\n",
    "    print_to_file('Experiment: {}'.format(experiment))\n",
    "    print_to_file('\\nInfos: {}'.format(infos))\n",
    "    \n",
    "    num_epochs = infos['num_epochs']\n",
    "    total_epoch_performace = [0] * num_epochs\n",
    "    for epoch in range(num_epochs):\n",
    "        for k in range (num_folds):\n",
    "            total_epoch_performace[epoch] += performances[k][epoch]\n",
    "        total_epoch_performace[epoch] /= num_folds\n",
    "    best_epoch = total_epoch_performace.index(max(total_epoch_performace))\n",
    "    print_to_file('\\nStatistical best epoch: {}'.format(best_epoch))\n",
    "    \n",
    "    total_max_performance = [0] * num_folds\n",
    "    for k in  range (num_folds):\n",
    "        total_max_performance[k] = performances[k].index(max(performances[k]))\n",
    "    print_to_file('\\nMitchell best epoch: {}'.format(sum(total_max_performance) / num_folds))\n",
    "    \n",
    "    break"
   ]
  },
  {
   "cell_type": "code",
   "execution_count": 9,
   "metadata": {},
   "outputs": [],
   "source": [
    "    with open(data_dir + experiment + '/confusion_matrices') as f:\n",
    "        data = json.loads(f.readline().replace(\"'\", '\"'))\n",
    "\n",
    "    conf_matrices = {}\n",
    "    for k in range(num_folds):\n",
    "        conf_matrices[k] = {}\n",
    "        for epoch in range(num_epochs):\n",
    "             conf_matrices[k][epoch] = data[str(k)][str(epoch)]\n",
    "\n",
    "    conf_matrix = {}\n",
    "    for k in range(num_folds):\n",
    "        conf_matrix[k] = conf_matrices[k][best_epoch]"
   ]
  },
  {
   "cell_type": "code",
   "execution_count": 10,
   "metadata": {},
   "outputs": [],
   "source": [
    "    num_classes = 10\n",
    "    num_samples = [0] * num_folds\n",
    "    for k in range(num_folds):\n",
    "        for i in range(num_classes):\n",
    "            for j in range(num_classes):\n",
    "                num_samples[k] += conf_matrix[k][i][j]"
   ]
  },
  {
   "cell_type": "code",
   "execution_count": 11,
   "metadata": {},
   "outputs": [],
   "source": [
    "    accuracy = [0] * num_folds\n",
    "    for k in range(num_folds):\n",
    "        for i in range(num_classes):\n",
    "            accuracy[k] += conf_matrix[k][i][i]\n",
    "        accuracy[k] /= num_samples[k]\n",
    "\n",
    "    print_to_file('\\nAccuracy: {} +-{}'.format(np.asarray(accuracy).mean(), np.asarray(accuracy).std()))\n"
   ]
  },
  {
   "cell_type": "code",
   "execution_count": 12,
   "metadata": {},
   "outputs": [],
   "source": [
    "    macro_precision = [0] * num_folds\n",
    "    precision = [0] * num_folds\n",
    "    precision_total = [0] * num_classes\n",
    "    for k in range(num_folds):\n",
    "        precision[k] = [0] * num_classes\n",
    "        for i in range(num_classes):\n",
    "            precision[k][i] = conf_matrix[k][i][i]\n",
    "            for j in range(num_classes):\n",
    "                precision_total[i] += conf_matrix[k][j][i]\n",
    "            if precision_total[i] != 0:\n",
    "                precision[k][i] /= precision_total[i]\n",
    "            else:\n",
    "                precision[k][i] = float('NaN')\n",
    "            macro_precision[k] += precision[k][i] / num_classes\n",
    "\n",
    "    print_to_file('\\nMacro precision: {} +-{}'.format(np.asarray(macro_precision).mean(), np.asarray(macro_precision).std()))"
   ]
  },
  {
   "cell_type": "code",
   "execution_count": 13,
   "metadata": {},
   "outputs": [],
   "source": [
    "    macro_recall = [0] * num_folds\n",
    "    recall = [0] * num_folds\n",
    "    recall_total = [0] * num_classes\n",
    "    for k in range(num_folds):\n",
    "        recall[k] = [0] * num_classes\n",
    "        for i in range(num_classes):\n",
    "            recall[k][i] = conf_matrix[k][i][i]\n",
    "            for j in range(num_classes):\n",
    "                recall_total[i] += conf_matrix[k][i][j]\n",
    "            if recall_total[i] != 0:\n",
    "                recall[k][i] /= recall_total[i]\n",
    "            else:\n",
    "                recall[k][i] = float('NaN')\n",
    "            macro_recall[k] += recall[k][i] / num_classes\n",
    "\n",
    "    print_to_file('\\nMacro recall: {} +-{}'.format(np.asarray(macro_recall).mean(), np.asarray(macro_recall).std()))"
   ]
  },
  {
   "cell_type": "code",
   "execution_count": 14,
   "metadata": {},
   "outputs": [],
   "source": [
    "    macro_f = [0] * num_folds\n",
    "    f = [0] * num_folds\n",
    "    for k in range(num_folds):\n",
    "        f[k] = [0] * num_classes\n",
    "        for i in range(num_classes):\n",
    "            if precision[k][i] + recall [k][i] != 0:\n",
    "                f[k][i] = 2 * precision[k][i] * recall[k][i] / (precision[k][i] + recall[k][i])\n",
    "            else:\n",
    "                f[k][i] = float('NaN')\n",
    "            macro_f[k] += f[k][i] / num_classes\n",
    "\n",
    "    print_to_file('\\nMacro F1: {} +-{}\\n\\n'.format(np.asarray(macro_f).mean(), np.asarray(macro_f).std()))"
   ]
  },
  {
   "cell_type": "code",
   "execution_count": 15,
   "metadata": {},
   "outputs": [
    {
     "name": "stdout",
     "output_type": "stream",
     "text": [
      "Statistics saved to file.\n"
     ]
    }
   ],
   "source": [
    "print('Statistics saved to file.')"
   ]
  },
  {
   "cell_type": "code",
   "execution_count": null,
   "metadata": {},
   "outputs": [],
   "source": []
  }
 ],
 "metadata": {
  "kernelspec": {
   "display_name": "Python 3",
   "language": "python",
   "name": "python3"
  },
  "language_info": {
   "codemirror_mode": {
    "name": "ipython",
    "version": 3
   },
   "file_extension": ".py",
   "mimetype": "text/x-python",
   "name": "python",
   "nbconvert_exporter": "python",
   "pygments_lexer": "ipython3",
   "version": "3.6.4"
  }
 },
 "nbformat": 4,
 "nbformat_minor": 2
}
