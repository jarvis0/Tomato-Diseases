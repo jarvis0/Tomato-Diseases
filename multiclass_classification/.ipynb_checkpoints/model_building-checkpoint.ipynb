{
 "cells": [
  {
   "cell_type": "code",
   "execution_count": 15,
   "metadata": {},
   "outputs": [],
   "source": [
    "import torch\n",
    "import torch.nn as nn\n",
    "import torch.nn.functional as F\n",
    "import torch.optim as optim\n",
    "from torch.utils.data import DataLoader\n",
    "import torchvision.transforms as transforms\n",
    "import torchvision.datasets as datasets\n",
    "from tqdm import trange"
   ]
  },
  {
   "cell_type": "code",
   "execution_count": 16,
   "metadata": {},
   "outputs": [],
   "source": [
    "num_epochs = 15\n",
    "batch_size = 32\n",
    "lr = 0.001\n",
    "wd = 0"
   ]
  },
  {
   "cell_type": "code",
   "execution_count": 13,
   "metadata": {},
   "outputs": [],
   "source": [
    "device = torch.device(\"cuda:0\" if torch.cuda.is_available() else \"cpu\")\n",
    "data_dir = '../augmented_data/'"
   ]
  },
  {
   "cell_type": "code",
   "execution_count": null,
   "metadata": {},
   "outputs": [],
   "source": [
    "mean = [0.44947562, 0.46524084, 0.40037745]\n",
    "std = [0.18456618, 0.16353698, 0.20014246]\n",
    "\n",
    "data_transforms = {\n",
    "        'train': transforms.Compose([\n",
    "        transforms.ToTensor(),\n",
    "        transforms.Normalize(mean, std)])}\n",
    "\n",
    "train_images = datasets.ImageFolder(os.path.join(data_dir, 'train'),\n",
    "                    data_transforms['train'])\n",
    "\n",
    "train_dataloader = DataLoader(train_images, batch_size=batch_size, shuffle=True, num_workers=4)"
   ]
  },
  {
   "cell_type": "code",
   "execution_count": 8,
   "metadata": {
    "scrolled": true
   },
   "outputs": [],
   "source": [
    "class Model(nn.Module):\n",
    "    def __init__(self):\n",
    "        super(Model, self).__init__()\n",
    "        # 3 input image channel,\n",
    "        # 6 output channel,\n",
    "        # 5x5 square convolution kernel\n",
    "        self.conv1 = nn.Conv2d(3, 6, 5)\n",
    "        self.pool = nn.MaxPool2d(2)\n",
    "        self.conv2 = nn.Conv2d(6, 16, 5)\n",
    "        # an affine operation\n",
    "        self.fc1 = nn.Linear(16 * 61 * 61, 120)\n",
    "        self.fc2 = nn.Linear(120, 84)\n",
    "        self.fc3 = nn.Linear(84, 1)\n",
    "        \n",
    "        nn.init.xavier_normal_(self.conv1.weight)\n",
    "        nn.init.xavier_normal_(self.conv2.weight)\n",
    "        nn.init.xavier_normal_(self.fc1.weight)\n",
    "        nn.init.xavier_normal_(self.fc2.weight)\n",
    "        nn.init.xavier_normal_(self.fc3.weight)\n",
    "        \n",
    "    def forward(self, x):\n",
    "        # max pooling over a (2, 2) windows\n",
    "        x = self.pool(F.relu(self.conv1(x)))\n",
    "        x = self.pool(F.relu(self.conv2(x)))\n",
    "        x = x.view(-1, self.num_flat_features(x))\n",
    "        x = F.relu(self.fc1(x))\n",
    "        x = F.relu(self.fc2(x))\n",
    "        x = self.fc3(x)\n",
    "        return x\n",
    "    \n",
    "    def num_flat_features(self, x):\n",
    "        size = x.size()[1:]\n",
    "        num_features = 1\n",
    "        for s in size:\n",
    "            num_features *= s\n",
    "        return num_features"
   ]
  },
  {
   "cell_type": "code",
   "execution_count": null,
   "metadata": {},
   "outputs": [],
   "source": [
    "model = Model()\n",
    "model.to(device)\n",
    "model.train()\n",
    "\n",
    "optimizer = optim.Adam(model.parameters(), lr=lr, weight_decay=wd)\n",
    "    \n",
    "epoch_progress = trange(num_epochs, bar_format='{desc}{r_bar}')\n",
    "for epoch in epoch_progress:  # loop over the dataset multiple epochs\n",
    "    \n",
    "    # iterate over the data\n",
    "    for inputs, labels in train_dataloader:\n",
    "\n",
    "        # get the inputs\n",
    "        inputs, labels = inputs.to(device), labels.to(device)\n",
    "\n",
    "        optimizer.zero_grad() # zero the gradient buffers\n",
    "\n",
    "        # forward + loss\n",
    "        outputs = model(inputs)\n",
    "        loss = nn.BCEWithLogitsLoss()(outputs.view(-1), labels.float())\n",
    "                \n",
    "        # backward + optimize\n",
    "        loss.backward()\n",
    "        optimizer.step() # does the update\n",
    "\n",
    "print('Training is over.')\n",
    "\n",
    "torch.save(model.state_dict(), 'model')\n",
    "print('Model saved to file.')"
   ]
  },
  {
   "cell_type": "code",
   "execution_count": null,
   "metadata": {},
   "outputs": [],
   "source": []
  }
 ],
 "metadata": {
  "kernelspec": {
   "display_name": "Python 3",
   "language": "python",
   "name": "python3"
  },
  "language_info": {
   "codemirror_mode": {
    "name": "ipython",
    "version": 3
   },
   "file_extension": ".py",
   "mimetype": "text/x-python",
   "name": "python",
   "nbconvert_exporter": "python",
   "pygments_lexer": "ipython3",
   "version": "3.6.4"
  }
 },
 "nbformat": 4,
 "nbformat_minor": 2
}
