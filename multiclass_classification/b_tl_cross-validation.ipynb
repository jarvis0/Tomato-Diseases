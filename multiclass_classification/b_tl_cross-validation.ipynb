{
 "cells": [
  {
   "cell_type": "code",
   "execution_count": null,
   "metadata": {},
   "outputs": [],
   "source": [
    "import torch\n",
    "import torch.nn as nn\n",
    "import torch.nn.functional as F\n",
    "import torch.optim as optim\n",
    "from torch.utils.data import ConcatDataset\n",
    "from torch.utils.data import DataLoader\n",
    "from torch.utils.data.dataset import random_split\n",
    "from torchvision import models\n",
    "import torchvision.transforms as transforms\n",
    "import torchvision.datasets as datasets\n",
    "from tqdm import trange\n",
    "import os\n",
    "import argparse\n",
    "from tensorboardX import SummaryWriter\n",
    "import time\n",
    "import datetime"
   ]
  },
  {
   "cell_type": "code",
   "execution_count": null,
   "metadata": {},
   "outputs": [],
   "source": [
    "def save_to_file(filename, to_file):\n",
    "    f = open(log_dir + filename, 'a')\n",
    "    f.write(str(to_file))\n",
    "    f.close()"
   ]
  },
  {
   "cell_type": "code",
   "execution_count": null,
   "metadata": {},
   "outputs": [],
   "source": [
    "ts = time.time()\n",
    "timestamp = datetime.datetime.fromtimestamp(ts).strftime('%Y-%m-%d h%Hm%Ms%S')\n",
    "\n",
    "if not os.path.exists('log/'):\n",
    "    os.mkdir('log/')\n",
    "    \n",
    "log_dir = 'log/' + timestamp + '/'\n",
    "os.mkdir(log_dir)"
   ]
  },
  {
   "cell_type": "code",
   "execution_count": null,
   "metadata": {},
   "outputs": [],
   "source": [
    "mean = [0.44947562, 0.46524084, 0.40037745]\n",
    "std = [0.18456618, 0.16353698, 0.20014246]"
   ]
  },
  {
   "cell_type": "code",
   "execution_count": null,
   "metadata": {},
   "outputs": [],
   "source": [
    "parser = argparse.ArgumentParser(description='CNN hyperparameters.')\n",
    "parser.add_argument('--arc', dest='arc', default='AlexNet_pretrained', type=str, required=False)\n",
    "parser.add_argument('--data', dest='data', default='segmented_normal_norm', type=str, required=False)\n",
    "parser.add_argument('--num_epochs', dest='num_epochs', default=60, type=int, required=False)\n",
    "parser.add_argument('--batch_size', dest='batch_size', default=64, type=int, required=False)\n",
    "parser.add_argument('--lr', dest='lr', default=0.001, type=float, required=False)\n",
    "parser.add_argument('--wd', dest='wd', default=0, type=float, required=False)\n",
    "\n",
    "args = parser.parse_args()\n",
    "arc = args.arc\n",
    "d = args.data\n",
    "num_epochs = args.num_epochs\n",
    "batch_size = args.batch_size\n",
    "lr = args.lr\n",
    "wd = args.wd\n",
    "\"\"\"\n",
    "num_epochs = 2\n",
    "batch_size = 64\n",
    "lr = 0.001\n",
    "wd = 0\n",
    "\"\"\"\n",
    "infos = {}\n",
    "infos['architecture'] = arc\n",
    "infos['dataset'] = d\n",
    "infos['num_epochs'] = num_epochs\n",
    "infos['batch_size'] = batch_size\n",
    "infos['lr'] = lr\n",
    "infos['wd'] = wd\n",
    "infos['mean'] = mean\n",
    "infos['std'] = std\n",
    "save_to_file('infos', infos)"
   ]
  },
  {
   "cell_type": "code",
   "execution_count": null,
   "metadata": {},
   "outputs": [],
   "source": [
    "device = torch.device(\"cuda:0\" if torch.cuda.is_available() else \"cpu\")\n",
    "data_dir = '../augmented_data/'\n",
    "model_format = \".model\""
   ]
  },
  {
   "cell_type": "code",
   "execution_count": null,
   "metadata": {},
   "outputs": [],
   "source": [
    "#mean = [0.14304061, 0.19164301, 0.10920697]\n",
    "#std = [0.20639636, 0.25961578, 0.15823205]\n",
    "\n",
    "data_transforms = {\n",
    "        'train': transforms.Compose([\n",
    "        transforms.Resize(224),\n",
    "        transforms.ToTensor(),\n",
    "        transforms.Normalize(mean, std)]),\n",
    "        'val': transforms.Compose([\n",
    "        transforms.Resize(224),\n",
    "        transforms.ToTensor(),\n",
    "        transforms.Normalize(mean, std)])}\n",
    "\n",
    "image_datasets = {x: datasets.ImageFolder(os.path.join(data_dir, x),\n",
    "                    data_transforms[x]) for x in ['train', 'val']}"
   ]
  },
  {
   "cell_type": "code",
   "execution_count": null,
   "metadata": {},
   "outputs": [],
   "source": [
    "def build_dataloaders(datasets):\n",
    "    \n",
    "    dataset_sizes = {x: len(datasets[x]) for x in ['train', 'val']}\n",
    "    \n",
    "    # creating dataloaders\n",
    "    dataloaders = {x: DataLoader(datasets[x], batch_size=batch_size,\n",
    "                        shuffle=True, num_workers=4) for x in ['train', 'val']}\n",
    "    \n",
    "    return dataloaders, dataset_sizes\n",
    "\n",
    "dataloaders, dataset_sizes = build_dataloaders(image_datasets)\n",
    "\n",
    "conf_matrices = {}\n",
    "performances = []\n",
    "writer = SummaryWriter(log_dir)"
   ]
  },
  {
   "cell_type": "code",
   "execution_count": null,
   "metadata": {},
   "outputs": [],
   "source": [
    "model = models.alexnet(pretrained=True)"
   ]
  },
  {
   "cell_type": "code",
   "execution_count": null,
   "metadata": {},
   "outputs": [],
   "source": [
    "for param in model.features:\n",
    "    param.requires_grad = True\n",
    "\n",
    "model.classifier[6] = nn.Linear(4096, 10)\n",
    "\n",
    "nn.init.kaiming_normal_(model.classifier[1].weight, nonlinearity='relu')\n",
    "nn.init.kaiming_normal_(model.classifier[4].weight, nonlinearity='relu')\n",
    "nn.init.kaiming_normal_(model.classifier[6].weight, nonlinearity='relu')\n",
    "\n",
    "model.to(device)"
   ]
  },
  {
   "cell_type": "code",
   "execution_count": null,
   "metadata": {},
   "outputs": [],
   "source": [
    "optimizer = optim.Adam(model.parameters(), lr=lr, weight_decay=wd, eps=0.1)\n",
    "    \n",
    "epoch_progress = trange(num_epochs, desc='Epoch 0 - val loss: ? acc: ?', bar_format='{desc}{r_bar}')\n",
    "for epoch in epoch_progress:  # loop over the dataset multiple epochs\n",
    "        \n",
    "    conf_matrices[epoch] = {}\n",
    "    # training and validation part\n",
    "    for phase in ['train', 'val']:\n",
    "            \n",
    "        if phase == 'train':\n",
    "            model.train()  # Set to training mode\n",
    "        else:\n",
    "            model.eval()  # Set model to evaluate mode\n",
    "                \n",
    "        running_loss = 0.0\n",
    "        running_corrects = 0\n",
    "        conf_matrices[epoch] = [0] * 10\n",
    "        for i in range(10):\n",
    "            conf_matrices[epoch][i] = [0] * 10\n",
    "\n",
    "        # iterate over the data\n",
    "        for inputs, labels in dataloaders[phase]:\n",
    "            \n",
    "            # get the inputs\n",
    "            inputs, labels = inputs.to(device), labels.to(device)\n",
    "\n",
    "            optimizer.zero_grad() # zero the gradient buffers\n",
    "\n",
    "            # forward + loss\n",
    "            outputs = model(inputs)\n",
    "            loss = nn.CrossEntropyLoss()(outputs, labels)\n",
    "                \n",
    "            if phase == 'train':\n",
    "                # backward + optimize\n",
    "                loss.backward()\n",
    "                optimizer.step() # does the update\n",
    "\n",
    "            # statistics\n",
    "            running_loss += loss.data.item() * inputs.size(0)\n",
    "                \n",
    "            _, preds = torch.max(outputs, 1)\n",
    "            running_corrects += torch.sum(preds == labels.data)\n",
    "                \n",
    "            if phase == 'val':\n",
    "                for predicted in range(len(preds)):\n",
    "                    conf_matrices[epoch][labels.data[predicted]][preds[predicted]] += 1\n",
    "        \n",
    "        epoch_loss = running_loss / dataset_sizes[phase]\n",
    "        epoch_acc = running_corrects.data.item() / dataset_sizes[phase]\n",
    "            \n",
    "        # tensorboard statistics\n",
    "        if phase == 'train':\n",
    "            writer.add_scalar('/train_loss', epoch_loss, epoch)\n",
    "            writer.add_scalar('/train_accuracy', epoch_acc, epoch)\n",
    "        else:\n",
    "            writer.add_scalar('/val_loss', epoch_loss, epoch)\n",
    "            writer.add_scalar('/val_accuracy', epoch_acc, epoch)\n",
    "    \n",
    "    performances.append(epoch_acc)\n",
    "    epoch_progress.set_description('Epoch {} - val loss: {:.4f} acc: {:.4f}'.format(epoch, epoch_loss, epoch_acc), refresh=False)\n",
    "    \n",
    "print('Training is over.')\n"
   ]
  },
  {
   "cell_type": "code",
   "execution_count": null,
   "metadata": {},
   "outputs": [],
   "source": [
    "torch.save(model.state_dict(), log_dir + 'alexnet_pretrained' + model_format)\n",
    "print('Model saved to file.')"
   ]
  },
  {
   "cell_type": "code",
   "execution_count": null,
   "metadata": {},
   "outputs": [],
   "source": [
    "save_to_file('performances', performances)\n",
    "\n",
    "for epoch in range(num_epochs):\n",
    "    conf_matrices[str(epoch)] = conf_matrices[epoch]\n",
    "    del conf_matrices[epoch]\n",
    "save_to_file('confusion_matrices', conf_matrices)\n",
    "\n",
    "print('Statistics saved to file.')"
   ]
  },
  {
   "cell_type": "code",
   "execution_count": null,
   "metadata": {},
   "outputs": [],
   "source": []
  }
 ],
 "metadata": {
  "kernelspec": {
   "display_name": "Python 3",
   "language": "python",
   "name": "python3"
  },
  "language_info": {
   "codemirror_mode": {
    "name": "ipython",
    "version": 3
   },
   "file_extension": ".py",
   "mimetype": "text/x-python",
   "name": "python",
   "nbconvert_exporter": "python",
   "pygments_lexer": "ipython3",
   "version": "3.6.4"
  }
 },
 "nbformat": 4,
 "nbformat_minor": 2
}
