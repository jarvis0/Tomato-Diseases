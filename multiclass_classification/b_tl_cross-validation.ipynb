{
 "cells": [
  {
   "cell_type": "code",
   "execution_count": 1,
   "metadata": {},
   "outputs": [],
   "source": [
    "import torch\n",
    "import torch.nn as nn\n",
    "import torch.nn.functional as F\n",
    "import torch.optim as optim\n",
    "from torch.utils.data import TensorDataset\n",
    "from torch.utils.data import ConcatDataset\n",
    "from torch.utils.data import DataLoader\n",
    "from torch.utils.data.dataset import random_split\n",
    "from torchvision import models\n",
    "import torchvision.transforms as transforms\n",
    "import torchvision.datasets as datasets\n",
    "from tqdm import trange\n",
    "import os\n",
    "import argparse\n",
    "from tensorboardX import SummaryWriter\n",
    "import time\n",
    "import datetime\n",
    "import numpy as np\n",
    "import matplotlib.pyplot as plt"
   ]
  },
  {
   "cell_type": "code",
   "execution_count": 2,
   "metadata": {},
   "outputs": [],
   "source": [
    "def save_to_file(filename, to_file):\n",
    "    f = open(log_dir + filename, 'a')\n",
    "    f.write(str(to_file))\n",
    "    f.close()"
   ]
  },
  {
   "cell_type": "code",
   "execution_count": 3,
   "metadata": {},
   "outputs": [],
   "source": [
    "ts = time.time()\n",
    "timestamp = datetime.datetime.fromtimestamp(ts).strftime('%Y-%m-%d h%Hm%Ms%S')\n",
    "\n",
    "if not os.path.exists('log/'):\n",
    "    os.mkdir('log/')\n",
    "    \n",
    "log_dir = 'log/' + timestamp + '/'\n",
    "os.mkdir(log_dir)"
   ]
  },
  {
   "cell_type": "code",
   "execution_count": 4,
   "metadata": {},
   "outputs": [],
   "source": [
    "mean = \"image_wise_normalization\"\n",
    "std = \"image_wise_normalization\""
   ]
  },
  {
   "cell_type": "code",
   "execution_count": 5,
   "metadata": {},
   "outputs": [
    {
     "data": {
      "text/plain": [
       "\"\\ninfos = {}\\ninfos['architecture'] = arc\\ninfos['dataset'] = d\\ninfos['num_epochs'] = num_epochs\\ninfos['batch_size'] = batch_size\\ninfos['lr'] = lr\\ninfos['wd'] = wd\\ninfos['mean'] = mean\\ninfos['std'] = std\\nsave_to_file('infos', infos)\\n\""
      ]
     },
     "execution_count": 5,
     "metadata": {},
     "output_type": "execute_result"
    }
   ],
   "source": [
    "parser = argparse.ArgumentParser(description='CNN hyperparameters.')\n",
    "parser.add_argument('--arc', dest='arc', default='AlexNet_pretrained', type=str, required=False)\n",
    "parser.add_argument('--data', dest='data', default='segmented_normal_normalization', type=str, required=False)\n",
    "parser.add_argument('--num_epochs', dest='num_epochs', default=60, type=int, required=False)\n",
    "parser.add_argument('--batch_size', dest='batch_size', default=64, type=int, required=False)\n",
    "parser.add_argument('--lr', dest='lr', default=0.001, type=float, required=False)\n",
    "parser.add_argument('--wd', dest='wd', default=0, type=float, required=False)\n",
    "\n",
    "args = parser.parse_args()\n",
    "arc = args.arc\n",
    "d = args.data\n",
    "num_epochs = args.num_epochs\n",
    "batch_size = args.batch_size\n",
    "lr = args.lr\n",
    "wd = args.wd\n",
    "\"\"\"\n",
    "num_epochs = 2\n",
    "batch_size = 64\n",
    "lr = 0.001\n",
    "wd = 0\n",
    "\"\"\"\n",
    "infos = {}\n",
    "infos['architecture'] = arc\n",
    "infos['dataset'] = d\n",
    "infos['num_epochs'] = num_epochs\n",
    "infos['batch_size'] = batch_size\n",
    "infos['lr'] = lr\n",
    "infos['wd'] = wd\n",
    "infos['mean'] = mean\n",
    "infos['std'] = std\n",
    "save_to_file('infos', infos)"
   ]
  },
  {
   "cell_type": "code",
   "execution_count": 7,
   "metadata": {},
   "outputs": [],
   "source": [
    "device = torch.device(\"cuda:0\" if torch.cuda.is_available() else \"cpu\")\n",
    "data_dir = '../augmented_data/'\n",
    "model_format = \".model\""
   ]
  },
  {
   "cell_type": "code",
   "execution_count": 8,
   "metadata": {},
   "outputs": [],
   "source": [
    "#mean = [0.14304061, 0.19164301, 0.10920697]\n",
    "#std = [0.20639636, 0.25961578, 0.15823205]\n",
    "\n",
    "data_transforms = {\n",
    "        'train': transforms.Compose([\n",
    "        transforms.Resize((224,224)),\n",
    "        transforms.ToTensor()]),\n",
    "        'val': transforms.Compose([\n",
    "        transforms.Resize((224,224)),\n",
    "        transforms.ToTensor()])}\n",
    "\n",
    "image_datasets = {x: datasets.ImageFolder(os.path.join(data_dir, x),\n",
    "                    data_transforms[x]) for x in ['train', 'val']}"
   ]
  },
  {
   "cell_type": "code",
   "execution_count": 9,
   "metadata": {},
   "outputs": [],
   "source": [
    "def build_dataloaders(datasets):\n",
    "    \n",
    "    dataset_sizes = {x: len(datasets[x]) for x in ['train', 'val']}\n",
    "    \n",
    "    # creating dataloaders\n",
    "    dataloaders = {x: DataLoader(datasets[x], batch_size=batch_size,\n",
    "                        shuffle=False, num_workers=4) for x in ['train', 'val']}\n",
    "    \n",
    "    return dataloaders, dataset_sizes\n",
    "\n",
    "dataloaders, dataset_sizes = build_dataloaders(image_datasets)\n",
    "\n",
    "conf_matrices = {}\n",
    "performances = []\n",
    "writer = SummaryWriter(log_dir)"
   ]
  },
  {
   "cell_type": "code",
   "execution_count": 10,
   "metadata": {},
   "outputs": [],
   "source": [
    "def image_show(img):\n",
    "    img = np.transpose(img.cpu().numpy(), (1, 2, 0))\n",
    "    img = np.clip(img, 0, 1)\n",
    "    plt.imshow(img)\n",
    "    plt.pause(0.001)"
   ]
  },
  {
   "cell_type": "code",
   "execution_count": 11,
   "metadata": {},
   "outputs": [],
   "source": [
    "data = {}\n",
    "for phase in ['train', 'val']:\n",
    "    data[phase] = []\n",
    "    for images, labels in dataloaders[phase]:\n",
    "        for i in range(len(images)):\n",
    "            #shape (batch_size, 3, height, width\n",
    "            numpy_image = images[i].numpy()\n",
    "            # shape (3,)\n",
    "            image_mean = np.mean(numpy_image, axis=(1,2))\n",
    "            std = np.std(numpy_image, axis=(1,2))\n",
    "            adjusted_stddev = np.float32(np.maximum(std, [1.0/224.0, 1.0/224.0, 1.0/224.0]))\n",
    "            image_mean_matrix = np.asarray([np.full((224,224), image_mean[0]), np.full((224,224), image_mean[1]), np.full((224,224), image_mean[2])])\n",
    "            adjusted_stddev_matrix = np.asarray([np.full((224,224), adjusted_stddev[0]), np.full((224,224), adjusted_stddev[1]), np.full((224,224), adjusted_stddev[2])])\n",
    "            images[i] = images[i].sub_(torch.from_numpy(image_mean_matrix))\n",
    "            images[i] = images[i].div_(torch.from_numpy(adjusted_stddev_matrix))\n",
    "            \n",
    "        data[phase].append(TensorDataset(images, labels))"
   ]
  },
  {
   "cell_type": "code",
   "execution_count": 12,
   "metadata": {},
   "outputs": [],
   "source": [
    "datasets = {}\n",
    "for phase in ['train', 'val']:\n",
    "    datasets[phase] = []\n",
    "    for d in data[phase]:\n",
    "        datasets[phase] = ConcatDataset([datasets[phase], d])\n",
    "        \n",
    "dataloaders = {x: DataLoader(datasets[x], batch_size=batch_size,\n",
    "                shuffle=True, num_workers=4) for x in ['train', 'val']}"
   ]
  },
  {
   "cell_type": "code",
   "execution_count": 15,
   "metadata": {},
   "outputs": [
    {
     "data": {
      "text/plain": [
       "AlexNet(\n",
       "  (features): Sequential(\n",
       "    (0): Conv2d(3, 64, kernel_size=(11, 11), stride=(4, 4), padding=(2, 2))\n",
       "    (1): ReLU(inplace)\n",
       "    (2): MaxPool2d(kernel_size=3, stride=2, padding=0, dilation=1, ceil_mode=False)\n",
       "    (3): Conv2d(64, 192, kernel_size=(5, 5), stride=(1, 1), padding=(2, 2))\n",
       "    (4): ReLU(inplace)\n",
       "    (5): MaxPool2d(kernel_size=3, stride=2, padding=0, dilation=1, ceil_mode=False)\n",
       "    (6): Conv2d(192, 384, kernel_size=(3, 3), stride=(1, 1), padding=(1, 1))\n",
       "    (7): ReLU(inplace)\n",
       "    (8): Conv2d(384, 256, kernel_size=(3, 3), stride=(1, 1), padding=(1, 1))\n",
       "    (9): ReLU(inplace)\n",
       "    (10): Conv2d(256, 256, kernel_size=(3, 3), stride=(1, 1), padding=(1, 1))\n",
       "    (11): ReLU(inplace)\n",
       "    (12): MaxPool2d(kernel_size=3, stride=2, padding=0, dilation=1, ceil_mode=False)\n",
       "  )\n",
       "  (classifier): Sequential(\n",
       "    (0): Dropout(p=0.5)\n",
       "    (1): Linear(in_features=9216, out_features=4096, bias=True)\n",
       "    (2): ReLU(inplace)\n",
       "    (3): Dropout(p=0.5)\n",
       "    (4): Linear(in_features=4096, out_features=4096, bias=True)\n",
       "    (5): ReLU(inplace)\n",
       "    (6): Linear(in_features=4096, out_features=10, bias=True)\n",
       "  )\n",
       ")"
      ]
     },
     "execution_count": 15,
     "metadata": {},
     "output_type": "execute_result"
    }
   ],
   "source": [
    "model = models.alexnet(pretrained=True)\n",
    "for param in model.features:\n",
    "    param.requires_grad = True\n",
    "\n",
    "model.classifier[6] = nn.Linear(4096, 10)\n",
    "\n",
    "nn.init.kaiming_normal_(model.classifier[1].weight, nonlinearity='relu')\n",
    "nn.init.kaiming_normal_(model.classifier[4].weight, nonlinearity='relu')\n",
    "nn.init.kaiming_normal_(model.classifier[6].weight, nonlinearity='relu')\n",
    "\n",
    "model.to(device)"
   ]
  },
  {
   "cell_type": "code",
   "execution_count": 16,
   "metadata": {},
   "outputs": [
    {
     "name": "stderr",
     "output_type": "stream",
     "text": [
      "Epoch 0 - val loss: ? acc: ?| 0/2 [00:00<?, ?it/s]"
     ]
    },
    {
     "ename": "KeyboardInterrupt",
     "evalue": "",
     "output_type": "error",
     "traceback": [
      "\u001b[1;31m---------------------------------------------------------------------------\u001b[0m",
      "\u001b[1;31mKeyboardInterrupt\u001b[0m                         Traceback (most recent call last)",
      "\u001b[1;32m<ipython-input-16-23101fe0abe1>\u001b[0m in \u001b[0;36m<module>\u001b[1;34m()\u001b[0m\n\u001b[0;32m     37\u001b[0m \u001b[1;33m\u001b[0m\u001b[0m\n\u001b[0;32m     38\u001b[0m             \u001b[1;31m# statistics\u001b[0m\u001b[1;33m\u001b[0m\u001b[1;33m\u001b[0m\u001b[0m\n\u001b[1;32m---> 39\u001b[1;33m             \u001b[0mrunning_loss\u001b[0m \u001b[1;33m+=\u001b[0m \u001b[0mloss\u001b[0m\u001b[1;33m.\u001b[0m\u001b[0mdata\u001b[0m\u001b[1;33m.\u001b[0m\u001b[0mitem\u001b[0m\u001b[1;33m(\u001b[0m\u001b[1;33m)\u001b[0m \u001b[1;33m*\u001b[0m \u001b[0minputs\u001b[0m\u001b[1;33m.\u001b[0m\u001b[0msize\u001b[0m\u001b[1;33m(\u001b[0m\u001b[1;36m0\u001b[0m\u001b[1;33m)\u001b[0m\u001b[1;33m\u001b[0m\u001b[0m\n\u001b[0m\u001b[0;32m     40\u001b[0m \u001b[1;33m\u001b[0m\u001b[0m\n\u001b[0;32m     41\u001b[0m             \u001b[0m_\u001b[0m\u001b[1;33m,\u001b[0m \u001b[0mpreds\u001b[0m \u001b[1;33m=\u001b[0m \u001b[0mtorch\u001b[0m\u001b[1;33m.\u001b[0m\u001b[0mmax\u001b[0m\u001b[1;33m(\u001b[0m\u001b[0moutputs\u001b[0m\u001b[1;33m,\u001b[0m \u001b[1;36m1\u001b[0m\u001b[1;33m)\u001b[0m\u001b[1;33m\u001b[0m\u001b[0m\n",
      "\u001b[1;31mKeyboardInterrupt\u001b[0m: "
     ]
    }
   ],
   "source": [
    "optimizer = optim.Adam(model.parameters(), lr=lr, weight_decay=wd, eps=0.1)\n",
    "    \n",
    "epoch_progress = trange(num_epochs, desc='Epoch 0 - val loss: ? acc: ?', bar_format='{desc}{r_bar}')\n",
    "for epoch in epoch_progress:  # loop over the dataset multiple epochs\n",
    "        \n",
    "    conf_matrices[epoch] = {}\n",
    "    # training and validation part\n",
    "    for phase in ['train', 'val']:\n",
    "            \n",
    "        if phase == 'train':\n",
    "            model.train()  # Set to training mode\n",
    "        else:\n",
    "            model.eval()  # Set model to evaluate mode\n",
    "                \n",
    "        running_loss = 0.0\n",
    "        running_corrects = 0\n",
    "        conf_matrices[epoch] = [0] * 10\n",
    "        for i in range(10):\n",
    "            conf_matrices[epoch][i] = [0] * 10\n",
    "\n",
    "        # iterate over the data\n",
    "        for inputs, labels in dataloaders[phase]:\n",
    "            \n",
    "            # get the inputs\n",
    "            inputs, labels = inputs.to(device), labels.to(device)\n",
    "\n",
    "            optimizer.zero_grad() # zero the gradient buffers\n",
    "\n",
    "            # forward + loss\n",
    "            outputs = model(inputs)\n",
    "            loss = nn.CrossEntropyLoss()(outputs, labels)\n",
    "                \n",
    "            if phase == 'train':\n",
    "                # backward + optimize\n",
    "                loss.backward()\n",
    "                optimizer.step() # does the update\n",
    "\n",
    "            # statistics\n",
    "            running_loss += loss.data.item() * inputs.size(0)\n",
    "                \n",
    "            _, preds = torch.max(outputs, 1)\n",
    "            running_corrects += torch.sum(preds == labels.data)\n",
    "                \n",
    "            if phase == 'val':\n",
    "                for predicted in range(len(preds)):\n",
    "                    conf_matrices[epoch][labels.data[predicted]][preds[predicted]] += 1\n",
    "        \n",
    "        epoch_loss = running_loss / dataset_sizes[phase]\n",
    "        epoch_acc = running_corrects.data.item() / dataset_sizes[phase]\n",
    "            \n",
    "        # tensorboard statistics\n",
    "        if phase == 'train':\n",
    "            writer.add_scalar('/train_loss', epoch_loss, epoch)\n",
    "            writer.add_scalar('/train_accuracy', epoch_acc, epoch)\n",
    "        else:\n",
    "            writer.add_scalar('/val_loss', epoch_loss, epoch)\n",
    "            writer.add_scalar('/val_accuracy', epoch_acc, epoch)\n",
    "    \n",
    "    performances.append(epoch_acc)\n",
    "    epoch_progress.set_description('Epoch {} - val loss: {:.4f} acc: {:.4f}'.format(epoch, epoch_loss, epoch_acc), refresh=False)\n",
    "    \n",
    "print('Training is over.')\n"
   ]
  },
  {
   "cell_type": "code",
   "execution_count": null,
   "metadata": {},
   "outputs": [],
   "source": [
    "torch.save(model.state_dict(), log_dir + 'alexnet_pretrained' + model_format)\n",
    "print('Model saved to file.')"
   ]
  },
  {
   "cell_type": "code",
   "execution_count": null,
   "metadata": {},
   "outputs": [],
   "source": [
    "save_to_file('performances', performances)\n",
    "\n",
    "for epoch in range(num_epochs):\n",
    "    conf_matrices[str(epoch)] = conf_matrices[epoch]\n",
    "    del conf_matrices[epoch]\n",
    "save_to_file('confusion_matrices', conf_matrices)\n",
    "\n",
    "print('Statistics saved to file.')"
   ]
  },
  {
   "cell_type": "code",
   "execution_count": null,
   "metadata": {},
   "outputs": [],
   "source": []
  }
 ],
 "metadata": {
  "kernelspec": {
   "display_name": "Python 3",
   "language": "python",
   "name": "python3"
  },
  "language_info": {
   "codemirror_mode": {
    "name": "ipython",
    "version": 3
   },
   "file_extension": ".py",
   "mimetype": "text/x-python",
   "name": "python",
   "nbconvert_exporter": "python",
   "pygments_lexer": "ipython3",
   "version": "3.6.5"
  }
 },
 "nbformat": 4,
 "nbformat_minor": 2
}
