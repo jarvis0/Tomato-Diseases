{
 "cells": [
  {
   "cell_type": "code",
   "execution_count": 3,
   "metadata": {},
   "outputs": [],
   "source": [
    "import torch\n",
    "import torch.nn as nn\n",
    "from torch.utils.data import DataLoader\n",
    "import torchvision\n",
    "from torchvision import models\n",
    "import torchvision.transforms as transforms\n",
    "import torchvision.datasets as datasets\n",
    "import os"
   ]
  },
  {
   "cell_type": "code",
   "execution_count": 4,
   "metadata": {},
   "outputs": [],
   "source": [
    "device = torch.device(\"cuda:0\" if torch.cuda.is_available() else \"cpu\")\n",
    "data_dir = '../data/'\n",
    "test_dir = 'normal_test/'\n",
    "classes = sorted(os.listdir(data_dir + test_dir))\n",
    "batch_size = 64"
   ]
  },
  {
   "cell_type": "code",
   "execution_count": 5,
   "metadata": {},
   "outputs": [],
   "source": [
    "# segmented_test normalization\n",
    "mean = [0.14318287, 0.19182085, 0.10939839]\n",
    "std = [0.20657195, 0.25984347, 0.1585114]\n",
    "\n",
    "# normal_test normalization\n",
    "mean = [0.44947562, 0.46524084, 0.40037745]\n",
    "std = [0.18456618, 0.16353698, 0.20014246]\n",
    "\n",
    "data_transforms = {\n",
    "        'test': transforms.Compose([\n",
    "        transforms.Resize(224),\n",
    "        transforms.ToTensor(),\n",
    "        transforms.Normalize(mean, std)\n",
    "        ])}\n",
    "\n",
    "test_images = datasets.ImageFolder(os.path.join(data_dir, test_dir),\n",
    "                    data_transforms['test'])\n",
    "\n",
    "test_dataloader = DataLoader(test_images, batch_size=batch_size, shuffle=False, num_workers=4)"
   ]
  },
  {
   "cell_type": "code",
   "execution_count": 6,
   "metadata": {},
   "outputs": [
    {
     "data": {
      "text/plain": [
       "AlexNet(\n",
       "  (features): Sequential(\n",
       "    (0): Conv2d(3, 64, kernel_size=(11, 11), stride=(4, 4), padding=(2, 2))\n",
       "    (1): ReLU(inplace)\n",
       "    (2): MaxPool2d(kernel_size=3, stride=2, padding=0, dilation=1, ceil_mode=False)\n",
       "    (3): Conv2d(64, 192, kernel_size=(5, 5), stride=(1, 1), padding=(2, 2))\n",
       "    (4): ReLU(inplace)\n",
       "    (5): MaxPool2d(kernel_size=3, stride=2, padding=0, dilation=1, ceil_mode=False)\n",
       "    (6): Conv2d(192, 384, kernel_size=(3, 3), stride=(1, 1), padding=(1, 1))\n",
       "    (7): ReLU(inplace)\n",
       "    (8): Conv2d(384, 256, kernel_size=(3, 3), stride=(1, 1), padding=(1, 1))\n",
       "    (9): ReLU(inplace)\n",
       "    (10): Conv2d(256, 256, kernel_size=(3, 3), stride=(1, 1), padding=(1, 1))\n",
       "    (11): ReLU(inplace)\n",
       "    (12): MaxPool2d(kernel_size=3, stride=2, padding=0, dilation=1, ceil_mode=False)\n",
       "  )\n",
       "  (classifier): Sequential(\n",
       "    (0): Dropout(p=0.5)\n",
       "    (1): Linear(in_features=9216, out_features=4096, bias=True)\n",
       "    (2): ReLU(inplace)\n",
       "    (3): Dropout(p=0.5)\n",
       "    (4): Linear(in_features=4096, out_features=4096, bias=True)\n",
       "    (5): ReLU(inplace)\n",
       "    (6): Linear(in_features=4096, out_features=10, bias=True)\n",
       "  )\n",
       ")"
      ]
     },
     "execution_count": 6,
     "metadata": {},
     "output_type": "execute_result"
    }
   ],
   "source": [
    "model = models.alexnet()\n",
    "model.classifier[6] = nn.Linear(4096, 10)\n",
    "model.load_state_dict(torch.load('alexnet_pretrained.model', map_location=str(device)))\n",
    "model.eval()\n",
    "model.to(device)"
   ]
  },
  {
   "cell_type": "code",
   "execution_count": 7,
   "metadata": {},
   "outputs": [],
   "source": [
    "import matplotlib.pyplot as plt\n",
    "import numpy as np\n",
    "\n",
    "def imshow(inp, title=None):\n",
    "    inp = inp.numpy().transpose((1, 2, 0))\n",
    "    inp = std * inp + mean\n",
    "    inp = np.clip(inp, 0, 1)\n",
    "    plt.imshow(inp)\n",
    "    if title is not None:\n",
    "        plt.title(title)\n",
    "    plt.pause(0.001)"
   ]
  },
  {
   "cell_type": "code",
   "execution_count": 8,
   "metadata": {},
   "outputs": [],
   "source": [
    "DEBUG = False\n",
    "\n",
    "conf_matrix = {}\n",
    "conf_matrix = [0] * len(classes)\n",
    "for i in range(len(classes)):\n",
    "    conf_matrix[i] = [0] * len(classes)\n",
    "running_corrects = 0\n",
    "with torch.no_grad():\n",
    "    for data in test_dataloader:\n",
    "        images, labels = data\n",
    "        images, labels = images.to(device), labels.to(device)\n",
    "        outputs = model(images)\n",
    "        _, preds = torch.max(outputs, 1)\n",
    "        for predicted in range(len(preds)):\n",
    "            conf_matrix[labels.data[predicted]][preds[predicted]] += 1\n",
    "        if DEBUG == True:\n",
    "            for i in range(len(preds)):\n",
    "                if labels.data[predicted] != preds[predicted]:\n",
    "                    print('True class: {}'.format(classes[labels.data[predicted]]))\n",
    "                    print('Predicted class: {}'.format(classes[preds[predicted]]))\n",
    "                    out = torchvision.utils.make_grid(images[i])\n",
    "                    imshow(out)"
   ]
  },
  {
   "cell_type": "code",
   "execution_count": 9,
   "metadata": {},
   "outputs": [],
   "source": [
    "def print_to_file(to_file, filename='model_evaluation'):\n",
    "    f = open(filename, 'a')\n",
    "    f.write(to_file)\n",
    "    f.close()"
   ]
  },
  {
   "cell_type": "code",
   "execution_count": 10,
   "metadata": {},
   "outputs": [],
   "source": [
    "num_classes = len(classes)\n",
    "for i in range(num_classes):\n",
    "    print_to_file(str(conf_matrix[i]).replace('[', '').replace(']', '') + '\\n')"
   ]
  },
  {
   "cell_type": "code",
   "execution_count": 11,
   "metadata": {},
   "outputs": [],
   "source": [
    "num_samples = 0\n",
    "for i in range(num_classes):\n",
    "    for j in range(num_classes):\n",
    "        num_samples += conf_matrix[i][j]\n",
    "print_to_file('Number of samples: {}'.format(num_samples))"
   ]
  },
  {
   "cell_type": "code",
   "execution_count": 12,
   "metadata": {},
   "outputs": [],
   "source": [
    "accuracy = 0\n",
    "for i in range(num_classes):\n",
    "    accuracy += conf_matrix[i][i]\n",
    "accuracy /= num_samples\n",
    "\n",
    "print_to_file('\\nAccuracy: {}'.format(accuracy))"
   ]
  },
  {
   "cell_type": "code",
   "execution_count": 13,
   "metadata": {},
   "outputs": [],
   "source": [
    "macro_precision = 0\n",
    "precision = [0] * num_classes\n",
    "precision_total = [0] * num_classes\n",
    "for i in range(num_classes):\n",
    "    precision[i] = conf_matrix[i][i]\n",
    "    for j in range(num_classes):\n",
    "        precision_total[i] += conf_matrix[j][i]\n",
    "    if precision_total[i] != 0:\n",
    "        precision[i] /= precision_total[i]\n",
    "    else:\n",
    "        precision[i] = float('NaN')\n",
    "    macro_precision += precision[i] / num_classes\n",
    "\n",
    "print_to_file('\\nMacro precision: {}'.format(macro_precision))"
   ]
  },
  {
   "cell_type": "code",
   "execution_count": 14,
   "metadata": {},
   "outputs": [],
   "source": [
    "macro_recall = 0\n",
    "recall = [0] * num_classes\n",
    "recall_total = [0] * num_classes\n",
    "for i in range(num_classes):\n",
    "    recall[i] = conf_matrix[i][i]\n",
    "    for j in range(num_classes):\n",
    "        recall_total[i] += conf_matrix[i][j]\n",
    "    if recall_total[i] != 0:\n",
    "        recall[i] /= recall_total[i]\n",
    "    else:\n",
    "        recall[i] = float('NaN')\n",
    "    macro_recall += recall[i] / num_classes\n",
    "\n",
    "print_to_file('\\nMacro recall (Trues Rate): {}'.format(macro_recall))"
   ]
  },
  {
   "cell_type": "code",
   "execution_count": 15,
   "metadata": {},
   "outputs": [],
   "source": [
    "macro_fr = 0\n",
    "fr_total = [0] * num_classes\n",
    "fr = [0] * num_classes\n",
    "for i in range(num_classes):\n",
    "    for j in range(num_classes):\n",
    "        fr_total[i] += conf_matrix[i][j]\n",
    "    fr[i] = fr_total[i] - conf_matrix[i][i]\n",
    "    fr[i] /= fr_total[i]\n",
    "    macro_fr += fr[i] / num_classes\n",
    "\n",
    "print_to_file('\\nFalses Rate: {}'.format(macro_fr))"
   ]
  },
  {
   "cell_type": "code",
   "execution_count": 16,
   "metadata": {},
   "outputs": [],
   "source": [
    "macro_f = 0\n",
    "f = [0] * num_classes\n",
    "\n",
    "for i in range(num_classes):\n",
    "    if precision[i] + recall[i] != 0:\n",
    "        f[i] = 2 * precision[i] * recall[i] / (precision[i] + recall[i])\n",
    "    else:\n",
    "        f[i] = float('NaN')\n",
    "    macro_f += f[i] / num_classes\n",
    "\n",
    "print_to_file('\\nMacro F1: {}'.format(macro_f))"
   ]
  },
  {
   "cell_type": "code",
   "execution_count": 17,
   "metadata": {},
   "outputs": [
    {
     "name": "stdout",
     "output_type": "stream",
     "text": [
      "Analysis measures saved to file.\n"
     ]
    }
   ],
   "source": [
    "print('Analysis measures saved to file.')"
   ]
  },
  {
   "cell_type": "code",
   "execution_count": null,
   "metadata": {},
   "outputs": [],
   "source": []
  }
 ],
 "metadata": {
  "kernelspec": {
   "display_name": "Python 3",
   "language": "python",
   "name": "python3"
  },
  "language_info": {
   "codemirror_mode": {
    "name": "ipython",
    "version": 3
   },
   "file_extension": ".py",
   "mimetype": "text/x-python",
   "name": "python",
   "nbconvert_exporter": "python",
   "pygments_lexer": "ipython3",
   "version": "3.6.4"
  }
 },
 "nbformat": 4,
 "nbformat_minor": 2
}
