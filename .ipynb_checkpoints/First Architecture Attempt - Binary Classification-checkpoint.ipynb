{
 "cells": [
  {
   "cell_type": "code",
   "execution_count": 2,
   "metadata": {
    "collapsed": true
   },
   "outputs": [],
   "source": [
    "import torch\n",
    "from torch.autograd import Variable\n",
    "import torch.nn as nn\n",
    "import torch.nn.functional as F\n",
    "import torch.optim as optim\n",
    "from torch.optim import lr_scheduler\n",
    "import torchvision.transforms as transforms\n",
    "import os\n",
    "import random\n",
    "import shutil\n",
    "import torchvision.datasets as datasets\n",
    "import torchvision\n",
    "import tqdm\n",
    "import sklearn\n",
    "import sklearn.datasets\n",
    "from tensorboardX import SummaryWriter\n",
    "from lib.dataset import random_split"
   ]
  },
  {
   "cell_type": "code",
   "execution_count": 3,
   "metadata": {
    "collapsed": true
   },
   "outputs": [],
   "source": [
    "GPU_MODE = torch.cuda.is_available()\n",
    "data_dir = 'data/'"
   ]
  },
  {
   "cell_type": "code",
   "execution_count": 4,
   "metadata": {
    "scrolled": true
   },
   "outputs": [
    {
     "name": "stderr",
     "output_type": "stream",
     "text": [
      "100%|██████████| 9/9 [00:04<00:00,  1.84it/s]\n"
     ]
    }
   ],
   "source": [
    "classes = ['healthy', 'Bacterial_spot', 'Early_blight', 'Late_blight', 'Leaf_Mold', 'Septoria_leaf_spot', \n",
    "           'Spider_mites Two-spotted_spider_mite', 'Target_Spot', 'Tomato_mosaic_virus', \n",
    "          'Tomato_Yellow_Leaf_Curl_Virus']\n",
    "binary_classes = ['healthy', 'non_healthy']\n",
    "\n",
    "if os.path.exists(data_dir):\n",
    "    shutil.rmtree(data_dir)\n",
    "os.mkdir(data_dir)\n",
    "os.mkdir(data_dir + 'test')\n",
    "os.mkdir(data_dir + 'test/healthy')\n",
    "\n",
    "shutil.copytree(\"original_dataset/healthy\", data_dir + \"train/healthy\")\n",
    "for i in range(int(len(os.listdir(data_dir + 'train/healthy')) * 0.2)): #testing parameter\n",
    "    src = random.choice(os.listdir(data_dir + \"train/healthy\"))\n",
    "    shutil.move(data_dir + \"train/healthy/\" + src, data_dir + \"test/healthy/\" + src)\n",
    "    \n",
    "os.mkdir(data_dir + 'train/non_healthy')\n",
    "os.mkdir(data_dir + 'test/non_healthy')\n",
    "for cls in tqdm.tqdm(list(classes[1:])):\n",
    "    for i in range(133):\n",
    "        src = random.choice(os.listdir(\"original_dataset/\" + cls))\n",
    "        shutil.copyfile(\"original_dataset/\" + cls + '/' + src, data_dir + \"train/non_healthy/\" + src) # will become copytree\n",
    "    for i in range(33):\n",
    "        src = random.choice(os.listdir(data_dir + \"train/non_healthy\"))\n",
    "        shutil.move(data_dir + \"train/non_healthy/\" + src, data_dir + \"test/non_healthy/\" + src)"
   ]
  },
  {
   "cell_type": "code",
   "execution_count": 5,
   "metadata": {},
   "outputs": [
    {
     "name": "stdout",
     "output_type": "stream",
     "text": [
      "{'test': Dataset ImageFolder\n",
      "    Number of datapoints: 615\n",
      "    Root Location: data/test\n",
      "    Transforms (if any): Compose(\n",
      "                             ToTensor()\n",
      "                             Normalize(mean=(0.5, 0.5, 0.5), std=(0.5, 0.5, 0.5))\n",
      "                         )\n",
      "    Target Transforms (if any): None, 'split0': <lib.dataset.Subset object at 0x7f824db2da20>, 'split1': <lib.dataset.Subset object at 0x7f824db2da58>, 'split2': <lib.dataset.Subset object at 0x7f824db2da90>, 'split3': <lib.dataset.Subset object at 0x7f824db2dac8>, 'split4': <lib.dataset.Subset object at 0x7f824db2db00>, 'split5': <lib.dataset.Subset object at 0x7f824db2db38>, 'split6': <lib.dataset.Subset object at 0x7f824db2db70>, 'split7': <lib.dataset.Subset object at 0x7f824db2dba8>, 'split8': <lib.dataset.Subset object at 0x7f824db2dbe0>, 'split9': <lib.dataset.Subset object at 0x7f824db2dc18>}\n",
      "211\n",
      "422\n",
      "633\n",
      "844\n",
      "1055\n",
      "Validation set...\n",
      "1055\n",
      "1266\n",
      "1477\n",
      "1688\n",
      "1899\n",
      "1899\n",
      "========\n"
     ]
    },
    {
     "data": {
      "text/plain": [
       "\"\\n\\ndataloaders = {x: torch.utils.data.DataLoader(image_datasets[x], batch_size=batch_size, \\n                                              shuffle=True, num_workers=4) for x in splits}\\n\\nprint(len(image_datasets['split0']))\\n\\ndataloaders = {x: torch.utils.data.DataLoader(image_datasets[x], batch_size=batch_size, \\n                                              shuffle=True, num_workers=4) for x in splits}\\n\\nprint(dataset_sizes)\\nprint(dataloaders)\\n\\n\\n\\n{'train': [image_datasets['split0'], image_datasets['split1']],\\n                                                  'test': [image_datasets['test']]}\\n\\n\""
      ]
     },
     "execution_count": 5,
     "metadata": {},
     "output_type": "execute_result"
    }
   ],
   "source": [
    "batch_size = 16\n",
    "data_transforms = {\n",
    "        'train': transforms.Compose([\n",
    "        transforms.ToTensor(),\n",
    "        transforms.Normalize((0.5, 0.5, 0.5), (0.5, 0.5, 0.5))]),\n",
    "        'test': transforms.Compose([\n",
    "        transforms.ToTensor(),\n",
    "        transforms.Normalize((0.5, 0.5, 0.5), (0.5, 0.5, 0.5))])}\n",
    "\n",
    "image_datasets = {x: datasets.ImageFolder(os.path.join(data_dir, x),\n",
    "                    data_transforms[x]) for x in ['train', 'test']}\n",
    "\n",
    "k = 10\n",
    "splits = []\n",
    "for i in range(k):\n",
    "    splits.append('split' + str(i))\n",
    "splits.append('test')\n",
    "\n",
    "train_dataset_len = len(image_datasets['train'])\n",
    "\n",
    "splits_size = []\n",
    "overall_splits_size = 0\n",
    "for i in range(k - 1):\n",
    "    overall_splits_size += train_dataset_len // k\n",
    "    splits_size.append(train_dataset_len // k)\n",
    "splits_size.append(train_dataset_len - overall_splits_size)\n",
    "\n",
    "random_splits = random_split(image_datasets['train'], splits_size)\n",
    "del image_datasets['train']\n",
    "for i in range(k):\n",
    "    image_datasets[splits[i]] = random_splits[i]\n",
    "\n",
    "print(image_datasets)\n",
    "training_dataset = {}\n",
    "training_dataset['train'] = {}\n",
    "\n",
    "validationSet = 5\n",
    "\n",
    "for i in range(k):\n",
    "    if i != validationSet:\n",
    "        key = 'split' + str(i)\n",
    "        training_dataset['train'] = torch.utils.data.ConcatDataset([training_dataset['train'], image_datasets[key]])\n",
    "    else:\n",
    "        #validation set\n",
    "        print(\"Validation set...\")\n",
    "    print(len(training_dataset['train']))\n",
    "print(len(training_dataset['train']))\n",
    "\n",
    "dataset_sizes = {x: len(image_datasets[x]) for x in splits}\n",
    "\n",
    "\"\"\"\n",
    "for i in range(k):\n",
    "    if i==0:\n",
    "        print()\n",
    "    else:\n",
    "        if i==1:\n",
    "            training_dataset['train'] = torch.utils.data.ConcatDataset([image_datasets['split0'], image_datasets['split1']])\n",
    "        else:\n",
    "            key = 'split' + str(i)\n",
    "            training_dataset['train'] = torch.utils.data.ConcatDataset([training_dataset['train'], image_datasets[key]])\n",
    "        print(len(training_dataset['train']))\n",
    "print(len(training_dataset['train']))\"\"\"\n",
    "\n",
    "#training_dataset['train'] = torch.utils.data.ConcatDataset([image_datasets['split0'], image_datasets['split1']])\n",
    "\n",
    "\n",
    "\n",
    "print(\"========\")\n",
    "\n",
    "\"\"\"\n",
    "\n",
    "dataloaders = {x: torch.utils.data.DataLoader(image_datasets[x], batch_size=batch_size, \n",
    "                                              shuffle=True, num_workers=4) for x in splits}\n",
    "\n",
    "print(len(image_datasets['split0']))\n",
    "\n",
    "dataloaders = {x: torch.utils.data.DataLoader(image_datasets[x], batch_size=batch_size, \n",
    "                                              shuffle=True, num_workers=4) for x in splits}\n",
    "\n",
    "print(dataset_sizes)\n",
    "print(dataloaders)\n",
    "\n",
    "\n",
    "\n",
    "{'train': [image_datasets['split0'], image_datasets['split1']],\n",
    "                                                  'test': [image_datasets['test']]}\n",
    "\n",
    "\"\"\""
   ]
  },
  {
   "cell_type": "code",
   "execution_count": 22,
   "metadata": {
    "scrolled": true
   },
   "outputs": [
    {
     "ename": "NameError",
     "evalue": "name 'dataloaders' is not defined",
     "output_type": "error",
     "traceback": [
      "\u001b[0;31m---------------------------------------------------------------------------\u001b[0m",
      "\u001b[0;31mNameError\u001b[0m                                 Traceback (most recent call last)",
      "\u001b[0;32m<ipython-input-22-f4717867d752>\u001b[0m in \u001b[0;36m<module>\u001b[0;34m()\u001b[0m\n\u001b[1;32m     10\u001b[0m \u001b[0;31m# get some random training images\u001b[0m\u001b[0;34m\u001b[0m\u001b[0;34m\u001b[0m\u001b[0m\n\u001b[1;32m     11\u001b[0m \u001b[0;32mfor\u001b[0m \u001b[0mi\u001b[0m \u001b[0;32min\u001b[0m \u001b[0;34m[\u001b[0m\u001b[0;34m'test'\u001b[0m\u001b[0;34m]\u001b[0m\u001b[0;34m:\u001b[0m\u001b[0;34m\u001b[0m\u001b[0m\n\u001b[0;32m---> 12\u001b[0;31m     \u001b[0mdataiter\u001b[0m \u001b[0;34m=\u001b[0m \u001b[0miter\u001b[0m\u001b[0;34m(\u001b[0m\u001b[0mdataloaders\u001b[0m\u001b[0;34m[\u001b[0m\u001b[0mi\u001b[0m\u001b[0;34m]\u001b[0m\u001b[0;34m)\u001b[0m\u001b[0;34m\u001b[0m\u001b[0m\n\u001b[0m\u001b[1;32m     13\u001b[0m     \u001b[0mimages\u001b[0m\u001b[0;34m,\u001b[0m \u001b[0mlabels\u001b[0m \u001b[0;34m=\u001b[0m \u001b[0mdataiter\u001b[0m\u001b[0;34m.\u001b[0m\u001b[0mnext\u001b[0m\u001b[0;34m(\u001b[0m\u001b[0;34m)\u001b[0m\u001b[0;34m\u001b[0m\u001b[0m\n\u001b[1;32m     14\u001b[0m \u001b[0;34m\u001b[0m\u001b[0m\n",
      "\u001b[0;31mNameError\u001b[0m: name 'dataloaders' is not defined"
     ]
    }
   ],
   "source": [
    "import matplotlib.pyplot as plt\n",
    "import numpy as np\n",
    "\n",
    "# functions to show an image\n",
    "def imshow(img):\n",
    "    img = img / 2 + 0.5     # unnormalize\n",
    "    npimg = img.numpy()\n",
    "    plt.imshow(np.transpose(npimg, (1, 2, 0)))\n",
    "\n",
    "# get some random training images\n",
    "for i in ['test']:\n",
    "    dataiter = iter(dataloaders[i])\n",
    "    images, labels = dataiter.next()\n",
    "\n",
    "    # show images\n",
    "    imshow(torchvision.utils.make_grid(images))\n",
    "    # print labels\n",
    "    print(' '.join('%5s' % binary_classes[labels[j]] for j in range(batch_size)))"
   ]
  },
  {
   "cell_type": "code",
   "execution_count": 6,
   "metadata": {
    "scrolled": true
   },
   "outputs": [
    {
     "name": "stdout",
     "output_type": "stream",
     "text": [
      "Model(\n",
      "  (conv1): Conv2d(3, 4, kernel_size=(5, 5), stride=(1, 1))\n",
      "  (conv2): Conv2d(4, 6, kernel_size=(5, 5), stride=(1, 1))\n",
      "  (conv3): Conv2d(6, 16, kernel_size=(5, 5), stride=(1, 1))\n",
      "  (fc1): Linear(in_features=12544, out_features=120, bias=True)\n",
      "  (fc2): Linear(in_features=120, out_features=84, bias=True)\n",
      "  (fc3): Linear(in_features=84, out_features=2, bias=True)\n",
      ")\n"
     ]
    }
   ],
   "source": [
    "class Model(nn.Module):\n",
    "    def __init__(self):\n",
    "        super(Model, self).__init__()\n",
    "        # 3 input image channel,\n",
    "        # 6 output channel,\n",
    "        # 5x5 square convolution kernel\n",
    "        self.conv1 = nn.Conv2d(3, 4, 5)\n",
    "        self.conv2 = nn.Conv2d(4, 6, 5)\n",
    "        self.conv3 = nn.Conv2d(6, 16, 5)\n",
    "        # an affine operation\n",
    "        self.fc1 = nn.Linear(16 * 28 * 28, 120)\n",
    "        self.fc2 = nn.Linear(120, 84)\n",
    "        self.fc3 = nn.Linear(84, 2)\n",
    "        \n",
    "    def forward(self, x):\n",
    "        # max pooling over a (2, 2) windows\n",
    "        x = F.max_pool2d(F.relu(self.conv1(x)), 2)\n",
    "        x = F.max_pool2d(F.relu(self.conv2(x)), 2)\n",
    "        x = F.max_pool2d(F.relu(self.conv3(x)), 2)\n",
    "        x = x.view(-1, self.num_flat_features(x))\n",
    "        x = F.relu(self.fc1(x))\n",
    "        x = F.relu(self.fc2(x))\n",
    "        x = self.fc3(x)\n",
    "        return x\n",
    "    \n",
    "    def num_flat_features(self, x):\n",
    "        size = x.size()[1:]\n",
    "        num_features = 1\n",
    "        for s in size:\n",
    "            num_features *= s\n",
    "        return num_features\n",
    "    \n",
    "model = Model()\n",
    "if GPU_MODE:\n",
    "    model = model.cuda()\n",
    "    \n",
    "print(model)"
   ]
  },
  {
   "cell_type": "code",
   "execution_count": 14,
   "metadata": {},
   "outputs": [
    {
     "name": "stderr",
     "output_type": "stream",
     "text": [
      "0it [00:00, ?it/s]\n",
      "0it [00:00, ?it/s]\n",
      "0it [00:00, ?it/s]\n",
      "0it [00:00, ?it/s]\n",
      "0it [00:00, ?it/s]\n",
      "0it [00:00, ?it/s]\n",
      "0it [00:00, ?it/s]\n",
      "0it [00:00, ?it/s]\n",
      "0it [00:00, ?it/s]\n",
      "0it [00:00, ?it/s]"
     ]
    },
    {
     "name": "stdout",
     "output_type": "stream",
     "text": [
      "new validation set: 0\n",
      "new validation set: 1\n",
      "new validation set: 2\n",
      "new validation set: 3\n",
      "new validation set: 4\n",
      "new validation set: 5\n",
      "new validation set: 6\n",
      "new validation set: 7\n",
      "new validation set: 8\n",
      "new validation set: 9\n",
      "Finished Training.\n"
     ]
    },
    {
     "name": "stderr",
     "output_type": "stream",
     "text": [
      "\n"
     ]
    }
   ],
   "source": [
    "criterion = nn.CrossEntropyLoss()\n",
    "optimizer = optim.SGD(model.parameters(), lr=0.001, momentum=0.9)\n",
    "exp_lr_scheduler = lr_scheduler.StepLR(optimizer, step_size=7, gamma=0.1)\n",
    "\n",
    "num_epochs = 2\n",
    "num_batches = 8\n",
    "num_iterations = 0\n",
    "\n",
    "log_dir = 'log/'\n",
    "if os.path.exists(log_dir):\n",
    "    shutil.rmtree(log_dir)\n",
    "writer = SummaryWriter(log_dir)\n",
    "\n",
    "for validation_set in range(k):\n",
    "    dataloaders = {}\n",
    "    print(\"new validation set: \" + str(validation_set))\n",
    "    datasets = {}\n",
    "    datasets['train'] = {}\n",
    "    \n",
    "    for split in range(k):\n",
    "        key = 'split' + str(split)\n",
    "        if split != validation_set:\n",
    "            datasets['train'] = torch.utils.data.ConcatDataset([datasets['train'], image_datasets[key]])\n",
    "        else:\n",
    "            #validation set\n",
    "            datasets['val'] = image_datasets[key]  \n",
    "        \n",
    "    #creating dataloaders\n",
    "    dataloaders = {x: torch.utils.data.DataLoader(datasets[x], batch_size=batch_size,\n",
    "                        shuffle=True, num_workers=4) for x in ['train', 'val'] }\n",
    "\n",
    "\n",
    "    for epoch in tqdm.tqdm(list(range(num_epochs))):  # loop over the dataset multiple epochs\n",
    "    \n",
    "        #training and validation part\n",
    "        for phase in ['train', 'val']:\n",
    "            print(phase)\n",
    "\n",
    "            if phase == 'train':\n",
    "                exp_lr_scheduler.step()\n",
    "                model.train(True)  # Set model to training mode\n",
    "            else:\n",
    "                model.train(False)  # Set model to evaluate mode\n",
    "\n",
    "            running_loss = 0.0\n",
    "            running_corrects = 0\n",
    "\n",
    "            # iterate over the data\n",
    "            for i, data in enumerate(dataloaders[phase], 0):\n",
    "\n",
    "                # get the inputs\n",
    "                inputs, labels = data\n",
    "\n",
    "                # wrap them in Variable\n",
    "                if GPU_MODE:\n",
    "                    inputs, labels = Variable(inputs.cuda()), Variable(labels.cuda())\n",
    "                else:\n",
    "                    inputs, labels = Variable(inputs), Variable(labels)\n",
    "\n",
    "                optimizer.zero_grad() # zero the gradient buffers\n",
    "\n",
    "                # forward + loss\n",
    "                outputs = model(inputs)\n",
    "                _, preds = torch.max(outputs.data, 1)\n",
    "                loss = criterion(outputs, labels)\n",
    "                \n",
    "                if phase == 'train':\n",
    "                    # backward + optimize\n",
    "                    loss.backward()\n",
    "                    optimizer.step() # does the update\n",
    "\n",
    "                 # statistics\n",
    "                running_loss += loss.data.item() * inputs.size(0)\n",
    "                running_corrects += torch.sum(preds == labels.data)\n",
    "\n",
    "                if i % num_batches == num_batches - 1:\n",
    "                    print('[%d, %5d] loss: %.3f' % (epoch + 1, i + 1, running_loss / num_batches))\n",
    "                    num_iterations += i\n",
    "                    writer.add_scalar(phase + '/loss', running_loss, num_iterations)\n",
    "                    running_loss = 0.0  \n",
    "            \n",
    "\n",
    "                #epoch_loss = running_loss / dataset_sizes[phase]\n",
    "                #epoch_acc = running_corrects / dataset_sizes[phase]\n",
    "\n",
    "                #print('{} Loss: {:.4f} Acc: {:.4f}'.format(phase, epoch_loss, epoch_acc))\n",
    "        \n",
    "print('Finished Training.')"
   ]
  },
  {
   "cell_type": "code",
   "execution_count": null,
   "metadata": {
    "collapsed": true
   },
   "outputs": [],
   "source": [
    "testloader = dataloaders['test']\n",
    "dataiter = iter(testloader)\n",
    "images, labels = dataiter.next()\n",
    "\n",
    "# print images\n",
    "imshow(torchvision.utils.make_grid(images))\n",
    "print('GroundTruth: ', ' '.join('%5s' % binary_classes[labels[j]] for j in range(16)))"
   ]
  },
  {
   "cell_type": "code",
   "execution_count": null,
   "metadata": {
    "collapsed": true
   },
   "outputs": [],
   "source": [
    "if GPU_MODE:\n",
    "    outputs = model(Variable(images).cuda())\n",
    "else:\n",
    "    outputs = model(Variable(images))\n",
    "\n",
    "_, predicted = torch.max(outputs.data, 1)\n",
    "\n",
    "print('Predicted: ', ' '.join('%5s' % binary_classes[predicted.cpu()[j]]\n",
    "                              for j in range(16)))"
   ]
  },
  {
   "cell_type": "code",
   "execution_count": null,
   "metadata": {
    "collapsed": true
   },
   "outputs": [],
   "source": [
    "correct = 0\n",
    "total = 0\n",
    "for data in testloader:\n",
    "    images, labels = data\n",
    "    if GPU_MODE:\n",
    "        outputs = model(Variable(images).cuda())\n",
    "        _, predicted = torch.max(outputs.data, 1)\n",
    "        total += labels.size(0)\n",
    "        correct += (predicted.cpu() == labels).sum()\n",
    "    else:\n",
    "        outputs = model(Variable(images))\n",
    "        _, predicted = torch.max(outputs.data, 1)\n",
    "        total += labels.size(0)\n",
    "        correct += (predicted == labels).sum()\n",
    "\n",
    "print('Accuracy of the network on the test images: %d %%' % (100 * correct / total))"
   ]
  },
  {
   "cell_type": "code",
   "execution_count": null,
   "metadata": {
    "collapsed": true
   },
   "outputs": [],
   "source": [
    "class_correct = list(0. for i in range(2))\n",
    "class_total = list(0. for i in range(2))\n",
    "for data in testloader:\n",
    "    images, labels = data\n",
    "    if GPU_MODE:\n",
    "        outputs = model(Variable(images).cuda())\n",
    "        _, predicted = torch.max(outputs.data, 1)\n",
    "        c = (predicted.cpu() == labels).squeeze()\n",
    "    else:\n",
    "        outputs = model(Variable(images))\n",
    "        _, predicted = torch.max(outputs.data, 1)\n",
    "        c = (predicted == labels).squeeze() \n",
    "    for i in range(2):\n",
    "        label = labels[i]\n",
    "        class_correct[label] += c[i]\n",
    "        class_total[label] += 1\n",
    "\n",
    "for i in range(2):\n",
    "    print('Accuracy of %5s : %2d %%' % (binary_classes[i], 100 * class_correct[i] / class_total[i]))"
   ]
  },
  {
   "cell_type": "code",
   "execution_count": null,
   "metadata": {
    "collapsed": true
   },
   "outputs": [],
   "source": []
  }
 ],
 "metadata": {
  "kernelspec": {
   "display_name": "Python 3",
   "language": "python",
   "name": "python3"
  },
  "language_info": {
   "codemirror_mode": {
    "name": "ipython",
    "version": 3
   },
   "file_extension": ".py",
   "mimetype": "text/x-python",
   "name": "python",
   "nbconvert_exporter": "python",
   "pygments_lexer": "ipython3",
   "version": "3.6.3"
  }
 },
 "nbformat": 4,
 "nbformat_minor": 2
}
