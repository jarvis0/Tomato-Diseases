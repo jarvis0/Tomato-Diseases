{
 "cells": [
  {
   "cell_type": "code",
   "execution_count": 12,
   "metadata": {
    "collapsed": true
   },
   "outputs": [],
   "source": [
    "import torch\n",
    "from torch.autograd import Variable\n",
    "import torch.nn as nn\n",
    "import torch.nn.functional as F\n",
    "import torch.optim as optim\n",
    "from torch.optim import lr_scheduler\n",
    "import torchvision.transforms as transforms\n",
    "import torchvision.datasets as datasets\n",
    "import torchvision\n",
    "import tqdm\n",
    "import os\n",
    "import shutil\n",
    "from tensorboardX import SummaryWriter\n",
    "from torch.utils.data.dataset import random_split"
   ]
  },
  {
   "cell_type": "code",
   "execution_count": 13,
   "metadata": {
    "collapsed": true
   },
   "outputs": [],
   "source": [
    "device = torch.device(\"cuda:0\" if torch.cuda.is_available() else \"cpu\")\n",
    "data_dir = 'data/'"
   ]
  },
  {
   "cell_type": "code",
   "execution_count": 14,
   "metadata": {
    "scrolled": true
   },
   "outputs": [],
   "source": [
    "binary_classes = ['healthy', 'non_healthy']"
   ]
  },
  {
   "cell_type": "code",
   "execution_count": 15,
   "metadata": {},
   "outputs": [],
   "source": [
    "batch_size = 16\n",
    "data_transforms = {\n",
    "        'train': transforms.Compose([\n",
    "        transforms.ToTensor(),\n",
    "        transforms.Normalize((0.5, 0.5, 0.5), (0.5, 0.5, 0.5))])}\n",
    "\n",
    "image_datasets = {x: datasets.ImageFolder(os.path.join(data_dir, x),\n",
    "                    data_transforms[x]) for x in ['train']}\n",
    "num_folds = 10\n",
    "splits = []\n",
    "for i in range(num_folds):\n",
    "    splits.append('split' + str(i))\n",
    "\n",
    "train_subtest_dataset_len = len(image_datasets['train'])\n",
    "\n",
    "splits_size = []\n",
    "overall_splits_size = 0\n",
    "for i in range(num_folds - 1):\n",
    "    overall_splits_size += train_subtest_dataset_len // num_folds\n",
    "    splits_size.append(train_subtest_dataset_len // num_folds)\n",
    "splits_size.append(train_subtest_dataset_len - overall_splits_size)\n",
    "\n",
    "random_splits = random_split(image_datasets['train'], splits_size)\n",
    "del image_datasets['train']\n",
    "for i in range(num_folds):\n",
    "    image_datasets[splits[i]] = random_splits[i]"
   ]
  },
  {
   "cell_type": "code",
   "execution_count": 16,
   "metadata": {
    "scrolled": true
   },
   "outputs": [],
   "source": [
    "class Model(nn.Module):\n",
    "    def __init__(self):\n",
    "        super(Model, self).__init__()\n",
    "        # 3 input image channel,\n",
    "        # 6 output channel,\n",
    "        # 5x5 square convolution kernel\n",
    "        self.conv1 = nn.Conv2d(3, 6, 5)\n",
    "        self.pool = nn.MaxPool2d(2, 2)\n",
    "        self.conv2 = nn.Conv2d(6, 16, 5)\n",
    "        # an affine operation\n",
    "        self.fc1 = nn.Linear(16 * 61 * 61, 120)\n",
    "        self.fc2 = nn.Linear(120, 84)\n",
    "        self.fc3 = nn.Linear(84, 1)\n",
    "        \n",
    "    def forward(self, x):\n",
    "        # max pooling over a (2, 2) windows\n",
    "        x = self.pool(F.relu(self.conv1(x)))\n",
    "        x = self.pool(F.relu(self.conv2(x)))\n",
    "        x = x.view(-1, self.num_flat_features(x))\n",
    "        x = F.relu(self.fc1(x))\n",
    "        x = F.relu(self.fc2(x))\n",
    "        x = self.fc3(x)\n",
    "        return x\n",
    "    \n",
    "    def num_flat_features(self, x):\n",
    "        size = x.size()[1:]\n",
    "        num_features = 1\n",
    "        for s in size:\n",
    "            num_features *= s\n",
    "        return num_features"
   ]
  },
  {
   "cell_type": "code",
   "execution_count": 18,
   "metadata": {},
   "outputs": [],
   "source": [
    "def build_dataloaders(validation_set):\n",
    "    datasets = {}\n",
    "    datasets['train'] = []\n",
    "    for split in range(num_folds):\n",
    "        k = 'split' + str(split)\n",
    "        if split != validation_set:\n",
    "            datasets['train'] = torch.utils.data.ConcatDataset([datasets['train'], image_datasets[k]])\n",
    "        else:\n",
    "            #validation set\n",
    "            datasets['val'] = image_datasets[k]\n",
    "            \n",
    "    dataset_sizes = {x: len(datasets[x]) for x in ['train', 'val']}\n",
    "    \n",
    "    # creating dataloaders\n",
    "    dataloaders = {x: torch.utils.data.DataLoader(datasets[x], batch_size=batch_size,\n",
    "                        shuffle=True, num_workers=4) for x in ['train', 'val']}\n",
    "    return dataloaders, dataset_sizes"
   ]
  },
  {
   "cell_type": "code",
   "execution_count": 19,
   "metadata": {},
   "outputs": [
    {
     "name": "stderr",
     "output_type": "stream",
     "text": [
      "\n",
      "  0%|          | 0/2 [00:00<?, ?it/s]\u001b[A\n"
     ]
    },
    {
     "name": "stdout",
     "output_type": "stream",
     "text": [
      "Validation fold #0 - train Loss: 0.6775 Acc: 0.5377\n"
     ]
    },
    {
     "name": "stderr",
     "output_type": "stream",
     "text": [
      " 50%|█████     | 1/2 [00:59<00:59, 59.77s/it]"
     ]
    },
    {
     "name": "stdout",
     "output_type": "stream",
     "text": [
      "Validation fold #0 - val Loss: 0.6414 Acc: 0.8310\n",
      "Validation fold #0 - train Loss: 0.4761 Acc: 0.8341\n"
     ]
    },
    {
     "name": "stderr",
     "output_type": "stream",
     "text": [
      "100%|██████████| 2/2 [01:59<00:00, 59.59s/it]\n",
      "  0%|          | 0/2 [00:00<?, ?it/s]"
     ]
    },
    {
     "name": "stdout",
     "output_type": "stream",
     "text": [
      "Validation fold #0 - val Loss: 0.2475 Acc: 0.9261\n",
      "Validation fold #1 - train Loss: 0.6853 Acc: 0.6140\n"
     ]
    },
    {
     "name": "stderr",
     "output_type": "stream",
     "text": [
      " 50%|█████     | 1/2 [01:04<01:04, 64.80s/it]"
     ]
    },
    {
     "name": "stdout",
     "output_type": "stream",
     "text": [
      "Validation fold #1 - val Loss: 0.6723 Acc: 0.6462\n",
      "Validation fold #1 - train Loss: 0.6327 Acc: 0.7358\n"
     ]
    },
    {
     "name": "stderr",
     "output_type": "stream",
     "text": [
      "100%|██████████| 2/2 [02:07<00:00, 63.64s/it]"
     ]
    },
    {
     "name": "stdout",
     "output_type": "stream",
     "text": [
      "Validation fold #1 - val Loss: 0.5302 Acc: 0.8986\n",
      "Training is over.\n"
     ]
    },
    {
     "name": "stderr",
     "output_type": "stream",
     "text": [
      "\n"
     ]
    }
   ],
   "source": [
    "num_epochs = 10\n",
    "\n",
    "log_dir = 'log/'\n",
    "if os.path.exists(log_dir):\n",
    "    shutil.rmtree(log_dir)\n",
    "\n",
    "folds_performances = {}\n",
    "for validation_set in range(num_folds):\n",
    "    \n",
    "    writer = SummaryWriter(log_dir + 'Fold #' + str(validation_set))\n",
    "    dataloaders, dataset_sizes = build_dataloaders(validation_set)\n",
    "    \n",
    "    model = Model()\n",
    "    model.to(device)\n",
    "    optimizer = optim.SGD(model.parameters(), lr=0.001, momentum=0.9)\n",
    "    exp_lr_scheduler = lr_scheduler.StepLR(optimizer, step_size=7, gamma=0.1)\n",
    "    \n",
    "    folds_performances[validation_set] = []\n",
    "    for epoch in tqdm.tqdm(list(range(num_epochs))):  # loop over the dataset multiple epochs\n",
    "        \n",
    "        #training and validation part\n",
    "        for phase in ['train', 'val']:\n",
    "\n",
    "            if phase == 'train':\n",
    "                exp_lr_scheduler.step()\n",
    "                model.train()  # Set to training mode\n",
    "            else:\n",
    "                model.eval()  # Set model to evaluate mode\n",
    "\n",
    "            running_loss = 0.0\n",
    "            running_corrects = 0\n",
    "\n",
    "            # iterate over the data\n",
    "            for inputs, labels in dataloaders[phase]:\n",
    "\n",
    "                # get the inputs\n",
    "                inputs, labels = inputs.to(device), labels.to(device)\n",
    "\n",
    "                optimizer.zero_grad() # zero the gradient buffers\n",
    "\n",
    "                # forward + loss\n",
    "                outputs = model(inputs)\n",
    "                loss = nn.BCEWithLogitsLoss()(outputs.view(-1), labels.float())\n",
    "                \n",
    "                if phase == 'train':\n",
    "                    # backward + optimize\n",
    "                    loss.backward()\n",
    "                    optimizer.step() # does the update\n",
    "\n",
    "                # statistics\n",
    "                running_loss += loss.data.item() * inputs.size(0)\n",
    "                \n",
    "                preds = torch.round(torch.sigmoid(outputs))\n",
    "                running_corrects += torch.sum(preds.view(-1) == labels.data.float())\n",
    "                \n",
    "            epoch_loss = running_loss / dataset_sizes[phase]\n",
    "            epoch_acc = running_corrects.data.item() / dataset_sizes[phase]\n",
    "            print('Validation fold #{} - {} Loss: {:.4f} Acc: {:.4f}'.format(validation_set, phase, epoch_loss, epoch_acc))\n",
    "\n",
    "        folds_performances[validation_set].append(epoch_acc)\n",
    "        \n",
    "        # tensorboard statistics\n",
    "        writer.add_scalar('/loss', epoch_loss, epoch)\n",
    "        writer.add_scalar('/accuracy', epoch_acc, epoch)\n",
    "            \n",
    "print('Training is over.')"
   ]
  },
  {
   "cell_type": "code",
   "execution_count": 20,
   "metadata": {},
   "outputs": [],
   "source": [
    "def save_to_file(filename, to_file):\n",
    "    f = open(filename + '.txt', 'w+')\n",
    "    f.write(str(to_file))\n",
    "    f.close()"
   ]
  },
  {
   "cell_type": "code",
   "execution_count": 21,
   "metadata": {},
   "outputs": [
    {
     "name": "stdout",
     "output_type": "stream",
     "text": [
      "0: [0.8309748427672956, 0.9261006289308176]\n",
      "1: [0.6462264150943396, 0.8985849056603774]\n"
     ]
    }
   ],
   "source": [
    "for i in range(0, num_folds):\n",
    "    print(str(i) + \": \" + str(folds_performances[i]))\n",
    "\n",
    "save_to_file('folds_performances', folds_performances)"
   ]
  },
  {
   "cell_type": "code",
   "execution_count": null,
   "metadata": {},
   "outputs": [],
   "source": []
  }
 ],
 "metadata": {
  "kernelspec": {
   "display_name": "Python 3",
   "language": "python",
   "name": "python3"
  },
  "language_info": {
   "codemirror_mode": {
    "name": "ipython",
    "version": 3
   },
   "file_extension": ".py",
   "mimetype": "text/x-python",
   "name": "python",
   "nbconvert_exporter": "python",
   "pygments_lexer": "ipython3",
   "version": "3.6.4"
  }
 },
 "nbformat": 4,
 "nbformat_minor": 2
}
