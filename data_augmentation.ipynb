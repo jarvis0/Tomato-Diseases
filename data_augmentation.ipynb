{
 "cells": [
  {
   "cell_type": "code",
   "execution_count": 1,
   "metadata": {},
   "outputs": [],
   "source": [
    "from PIL import Image\n",
    "from matplotlib.pyplot import imshow\n",
    "import numpy as np\n",
    "import math\n",
    "import os\n",
    "import shutil\n",
    "\n",
    "%matplotlib inline"
   ]
  },
  {
   "cell_type": "code",
   "execution_count": 2,
   "metadata": {},
   "outputs": [],
   "source": [
    "def DisplayImage(image):\n",
    "    imshow(np.asarray(image))"
   ]
  },
  {
   "cell_type": "code",
   "execution_count": null,
   "metadata": {},
   "outputs": [],
   "source": [
    "binary_classification = True\n",
    "\n",
    "if binary_classification:\n",
    "    classes = ['healthy', 'non_healthy']\n",
    "else:  \n",
    "    classes = ['healthy', 'Bacterial_spot', 'Early_blight', 'Late_blight', 'Leaf_Mold', 'Septoria_leaf_spot',\n",
    "           'Spider_mites Two-spotted_spider_mite', 'Target_Spot', 'Tomato_mosaic_virus', 'Tomato_Yellow_Leaf_Curl_Virus']\n",
    "\n",
    "data_dir = 'augmented_data/'\n",
    "\n",
    "if os.path.exists(data_dir):\n",
    "    shutil.rmtree(data_dir)\n",
    "os.mkdir(data_dir)\n",
    "\n",
    "shutil.copytree('data/test', data_dir + 'test/')\n",
    "for clss in classes:\n",
    "    os.mkdir(data_dir + 'train/')\n",
    "    os.mkdir(data_dir + 'train/' + clss)\n",
    "    src = 'data/train/' + clss + '/'\n",
    "    dst = data_dir + 'train/' + clss + '/'\n",
    "    counter = 0\n",
    "    for image in os.listdir(src):\n",
    "        im = Image.open(src + image)\n",
    "        im.save(dst + str(counter) + '_ORIGINAL', 'JPEG')\n",
    "        \n",
    "        out = im.transpose(Image.FLIP_TOP_BOTTOM)\n",
    "        out.save(dst + str(counter) + '_FLIP_TOP_BOTTOM', 'JPEG')\n",
    "        \n",
    "        out = im.transpose(Image.FLIP_LEFT_RIGHT)\n",
    "        out.save(dst + str(counter) + '_FLIP_LEFT_RIGHT', 'JPEG')\n",
    "        \n",
    "        out = im.transpose(Image.ROTATE_180)\n",
    "        out.save(dst + str(counter) + '_ROTATE_180', 'JPEG')\n",
    "        \n",
    "        out = im.transpose(Image.ROTATE_90)\n",
    "        out.save(dst + str(counter) + '_ROTATE_90', 'JPEG')\n",
    "        \n",
    "        out = out.transpose(Image.FLIP_TOP_BOTTOM)\n",
    "        out.save(dst + str(counter) + '_ROTATE_90_TOP_BOTTOM', 'JPEG')\n",
    "        \n",
    "        out = im.transpose(Image.ROTATE_270)\n",
    "        out.save(dst + str(counter) + '_ROTATE_270', 'JPEG')\n",
    "        \n",
    "        out = out.transpose(Image.FLIP_TOP_BOTTOM)\n",
    "        out.save(dst + str(counter) + '_ROTATE_270_TOP_BOTTOM', 'JPEG')\n",
    "        \n",
    "        counter += 1\n",
    "        #print(im.format, im.size, im.mode)\n",
    "        #out = ScaleRotateTranslate(im, 0, scale=(0.8, 0.8))\n",
    "        #out = im.transpose(Image.TRANSVERSE)#.ROTATE_180)\n",
    "        \n",
    "\"\"\"center_x = 0\n",
    "        center_y = 0\n",
    "        scaling_factor_x = 1\n",
    "        scaling_factor_y = 1\n",
    "        shear_x = 0.2\n",
    "        shear_y = 0\n",
    "        transform_matrix = (scaling_factor_x, shear_x, center_x,\n",
    "                              shear_y, scaling_factor_y, center_y)\"\"\"\n",
    "        \n",
    "\"\"\"transform_matrix = (1, 1, 0,\n",
    "                            0, 1, 0,\n",
    "                            0, 0, 1)\n",
    "        out = im.transform(im.size, Image.PERSPECTIVE, transform_matrix, resample=Image.BICUBIC)\n",
    "        \n",
    "        DisplayImage(out)\n",
    "        break\"\"\"\n"
   ]
  },
  {
   "cell_type": "code",
   "execution_count": null,
   "metadata": {},
   "outputs": [],
   "source": []
  }
 ],
 "metadata": {
  "kernelspec": {
   "display_name": "Python 3",
   "language": "python",
   "name": "python3"
  },
  "language_info": {
   "codemirror_mode": {
    "name": "ipython",
    "version": 3
   },
   "file_extension": ".py",
   "mimetype": "text/x-python",
   "name": "python",
   "nbconvert_exporter": "python",
   "pygments_lexer": "ipython3",
   "version": "3.6.4"
  }
 },
 "nbformat": 4,
 "nbformat_minor": 2
}
