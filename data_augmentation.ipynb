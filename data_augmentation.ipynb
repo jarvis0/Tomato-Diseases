{
 "cells": [
  {
   "cell_type": "code",
   "execution_count": 301,
   "metadata": {},
   "outputs": [],
   "source": [
    "from PIL import Image\n",
    "from matplotlib.pyplot import imshow\n",
    "import numpy as np\n",
    "import math\n",
    "import os\n",
    "import shutil\n",
    "\n",
    "%matplotlib inline"
   ]
  },
  {
   "cell_type": "code",
   "execution_count": 302,
   "metadata": {},
   "outputs": [],
   "source": [
    "def DisplayImage(image):\n",
    "    imshow(np.asarray(image))"
   ]
  },
  {
   "cell_type": "code",
   "execution_count": 303,
   "metadata": {},
   "outputs": [],
   "source": [
    "classes = ['healthy', 'Bacterial_spot', 'Early_blight', 'Late_blight', 'Leaf_Mold', 'Septoria_leaf_spot',\n",
    "           'Spider_mites Two-spotted_spider_mite', 'Target_Spot', 'Tomato_mosaic_virus', 'Tomato_Yellow_Leaf_Curl_Virus']\n",
    "\n",
    "data_dir = 'augmented_data/'\n",
    "\n",
    "if os.path.exists(data_dir):\n",
    "    shutil.rmtree(data_dir)\n",
    "os.mkdir(data_dir)\n",
    "\n",
    "for clss in (classes):\n",
    "    os.mkdir(data_dir + clss)\n",
    "    src = 'original_dataset/' + clss + '/'\n",
    "    dst = data_dir + clss + '/'\n",
    "    counter = 0\n",
    "    for image in os.listdir(src):\n",
    "        im = Image.open(src + image)\n",
    "        im.save(dst + str(counter) + '_ORIGINAL', 'JPEG')\n",
    "        out = im.transpose(Image.FLIP_TOP_BOTTOM)\n",
    "        out.save(dst + str(counter) + '_FLIP_TOP_BOTTOM', 'JPEG')\n",
    "        out = im.transpose(Image.FLIP_LEFT_RIGHT)\n",
    "        out.save(dst + str(counter) + '_FLIP_LEFT_RIGHT', 'JPEG')\n",
    "        out = im.transpose(Image.ROTATE_180)\n",
    "        out.save(dst + str(counter) + '_ROTATE_180', 'JPEG')\n",
    "        counter += 1\n",
    "        #print(im.format, im.size, im.mode)\n",
    "        #out = ScaleRotateTranslate(im, 0, scale=(0.8, 0.8))\n",
    "        #out = im.transpose(Image.TRANSVERSE)#.ROTATE_180)\n",
    "        \n",
    "        \"\"\"center_x = 0\n",
    "        center_y = 0\n",
    "        scaling_factor_x = 1\n",
    "        scaling_factor_y = 1\n",
    "        shear_x = 0.2\n",
    "        shear_y = 0\n",
    "        transform_matrix = (scaling_factor_x, shear_x, center_x,\n",
    "                              shear_y, scaling_factor_y, center_y)\"\"\"\n",
    "        \n",
    "        \"\"\"transform_matrix = (1, 0, 0,\n",
    "                            0, 1, 0,\n",
    "                            0, 0, 1)\n",
    "        out = im.transform(im.size, Image.PERSPECTIVE, transform_matrix, resample=Image.BICUBIC)\"\"\"\n",
    "        \n",
    "        #DisplayImage(out)\n"
   ]
  },
  {
   "cell_type": "code",
   "execution_count": null,
   "metadata": {},
   "outputs": [],
   "source": []
  }
 ],
 "metadata": {
  "kernelspec": {
   "display_name": "Python 3",
   "language": "python",
   "name": "python3"
  },
  "language_info": {
   "codemirror_mode": {
    "name": "ipython",
    "version": 3
   },
   "file_extension": ".py",
   "mimetype": "text/x-python",
   "name": "python",
   "nbconvert_exporter": "python",
   "pygments_lexer": "ipython3",
   "version": "3.6.4"
  }
 },
 "nbformat": 4,
 "nbformat_minor": 2
}
