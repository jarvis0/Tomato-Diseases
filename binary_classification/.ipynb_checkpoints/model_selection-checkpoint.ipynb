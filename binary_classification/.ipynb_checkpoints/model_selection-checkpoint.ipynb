{
 "cells": [
  {
   "cell_type": "code",
   "execution_count": 93,
   "metadata": {},
   "outputs": [],
   "source": [
    "import numpy as np\n",
    "import json\n",
    "import os"
   ]
  },
  {
   "cell_type": "code",
   "execution_count": 94,
   "metadata": {},
   "outputs": [],
   "source": [
    "def print_to_file(to_file, filename='model_selection'):\n",
    "    f = open(filename, 'a')\n",
    "    f.write(str(to_file))\n",
    "    f.close()"
   ]
  },
  {
   "cell_type": "code",
   "execution_count": 95,
   "metadata": {},
   "outputs": [],
   "source": [
    "data_dir = 'log/'\n",
    "num_folds = 10\n",
    "\n",
    "experiments = os.listdir(data_dir)\n",
    "for experiment in experiments:\n",
    "    \n",
    "    with open(data_dir + experiment + '/infos') as f:\n",
    "        infos = json.loads(f.readline().replace(\"'\", '\"'))\n",
    "    \n",
    "    with open(data_dir + experiment + '/folds_performances') as f:\n",
    "        data = json.loads(f.readline().replace(\"'\", '\"'))\n",
    "        \n",
    "    performances = {}\n",
    "    for i in range(num_folds):\n",
    "        performances[i] = data[str(i)]\n",
    "\n",
    "    num_epochs = infos['num_epochs']\n",
    "    total_epoch_performace = [0] * num_epochs\n",
    "    for epoch in range(num_epochs):\n",
    "        for k in range (num_folds):\n",
    "            total_epoch_performace[epoch] += performances[k][epoch]\n",
    "        total_epoch_performace[epoch] /= num_folds\n",
    "        \n",
    "    print_to_file('Experiment: {}'.format(experiment))\n",
    "    print_to_file('\\nInfos: {}: '.format(infos))\n",
    "    print_to_file('\\nBest epoch: {}'.format(total_epoch_performace.index(max(total_epoch_performace))))\n",
    "    print_to_file('\\nAverage accuracy @ best epoch: {}'.format(max(total_epoch_performace)))\n",
    "    \n",
    "    total_fold_performance = [0] * num_folds\n",
    "    for k in range(num_folds):\n",
    "        for epoch in range(num_epochs):\n",
    "            total_fold_performance[k] += performances[k][epoch]\n",
    "        total_fold_performance[k] /= num_epochs\n",
    "    print_to_file('\\nStandard Deviation: {}\\n\\n'.format(np.asarray(total_fold_performance).std()))"
   ]
  },
  {
   "cell_type": "code",
   "execution_count": null,
   "metadata": {},
   "outputs": [],
   "source": []
  }
 ],
 "metadata": {
  "kernelspec": {
   "display_name": "Python 3",
   "language": "python",
   "name": "python3"
  },
  "language_info": {
   "codemirror_mode": {
    "name": "ipython",
    "version": 3
   },
   "file_extension": ".py",
   "mimetype": "text/x-python",
   "name": "python",
   "nbconvert_exporter": "python",
   "pygments_lexer": "ipython3",
   "version": "3.6.4"
  }
 },
 "nbformat": 4,
 "nbformat_minor": 2
}
