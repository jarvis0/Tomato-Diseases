{
 "cells": [
  {
   "cell_type": "code",
   "execution_count": 66,
   "metadata": {},
   "outputs": [],
   "source": [
    "import torch\n",
    "import torch.nn as nn\n",
    "import torch.nn.functional as F\n",
    "from torch.utils.data import DataLoader\n",
    "import torchvision.transforms as transforms\n",
    "import torchvision.datasets as datasets"
   ]
  },
  {
   "cell_type": "code",
   "execution_count": 82,
   "metadata": {},
   "outputs": [],
   "source": [
    "num_epochs = 15\n",
    "batch_size = 32\n",
    "lr = 0.001\n",
    "wd = 0\n",
    "\n",
    "classes = ['healthy', 'non_healthy']"
   ]
  },
  {
   "cell_type": "code",
   "execution_count": 68,
   "metadata": {},
   "outputs": [],
   "source": [
    "device = torch.device(\"cuda:0\" if torch.cuda.is_available() else \"cpu\")\n",
    "data_dir = '../data/'"
   ]
  },
  {
   "cell_type": "code",
   "execution_count": 69,
   "metadata": {},
   "outputs": [],
   "source": [
    "mean = [0.44947562, 0.46524084, 0.40037745]\n",
    "std = [0.18456618, 0.16353698, 0.20014246]\n",
    "\n",
    "data_transforms = {\n",
    "        'test': transforms.Compose([\n",
    "        transforms.ToTensor(),\n",
    "        transforms.Normalize(mean, std)])}\n",
    "\n",
    "test_images = datasets.ImageFolder(os.path.join(data_dir, 'test'),\n",
    "                    data_transforms['test'])\n",
    "\n",
    "test_dataloader = DataLoader(test_images, batch_size=batch_size, shuffle=True, num_workers=4)"
   ]
  },
  {
   "cell_type": "code",
   "execution_count": 75,
   "metadata": {},
   "outputs": [],
   "source": [
    "class Model(nn.Module):\n",
    "    def __init__(self):\n",
    "        super(Model, self).__init__()\n",
    "        # 3 input image channel,\n",
    "        # 6 output channel,\n",
    "        # 5x5 square convolution kernel\n",
    "        self.conv1 = nn.Conv2d(3, 6, 5)\n",
    "        self.pool = nn.MaxPool2d(2)\n",
    "        self.conv2 = nn.Conv2d(6, 16, 5)\n",
    "        # an affine operation\n",
    "        self.fc1 = nn.Linear(16 * 61 * 61, 120)\n",
    "        self.fc2 = nn.Linear(120, 84)\n",
    "        self.fc3 = nn.Linear(84, 1)\n",
    "        \n",
    "        nn.init.xavier_normal_(self.conv1.weight)\n",
    "        nn.init.xavier_normal_(self.conv2.weight)\n",
    "        nn.init.xavier_normal_(self.fc1.weight)\n",
    "        nn.init.xavier_normal_(self.fc2.weight)\n",
    "        nn.init.xavier_normal_(self.fc3.weight)\n",
    "        \n",
    "    def forward(self, x):\n",
    "        # max pooling over a (2, 2) windows\n",
    "        x = self.pool(F.relu(self.conv1(x)))\n",
    "        x = self.pool(F.relu(self.conv2(x)))\n",
    "        x = x.view(-1, self.num_flat_features(x))\n",
    "        x = F.relu(self.fc1(x))\n",
    "        x = F.relu(self.fc2(x))\n",
    "        x = self.fc3(x)\n",
    "        return x\n",
    "    \n",
    "    def num_flat_features(self, x):\n",
    "        size = x.size()[1:]\n",
    "        num_features = 1\n",
    "        for s in size:\n",
    "            num_features *= s\n",
    "        return num_features"
   ]
  },
  {
   "cell_type": "code",
   "execution_count": 76,
   "metadata": {},
   "outputs": [
    {
     "data": {
      "text/plain": [
       "Model(\n",
       "  (conv1): Conv2d(3, 6, kernel_size=(5, 5), stride=(1, 1))\n",
       "  (pool): MaxPool2d(kernel_size=2, stride=2, padding=0, dilation=1, ceil_mode=False)\n",
       "  (conv2): Conv2d(6, 16, kernel_size=(5, 5), stride=(1, 1))\n",
       "  (fc1): Linear(in_features=59536, out_features=120, bias=True)\n",
       "  (fc2): Linear(in_features=120, out_features=84, bias=True)\n",
       "  (fc3): Linear(in_features=84, out_features=1, bias=True)\n",
       ")"
      ]
     },
     "execution_count": 76,
     "metadata": {},
     "output_type": "execute_result"
    }
   ],
   "source": [
    "model = Model()\n",
    "model.load_state_dict(torch.load('model', map_location=str(device)))\n",
    "model.eval()"
   ]
  },
  {
   "cell_type": "code",
   "execution_count": 77,
   "metadata": {},
   "outputs": [],
   "source": [
    "class_corrects = [0] * len(classes)\n",
    "class_total = [0] * len(classes)\n",
    "with torch.no_grad():\n",
    "    for data in test_dataloader:\n",
    "        images, labels = data\n",
    "        images, labels = images.to(device), labels.to(device)\n",
    "        outputs = model(images)\n",
    "        preds = torch.round(F.sigmoid(outputs))\n",
    "        c = (preds.view(-1) == labels.data.float()).squeeze()\n",
    "        for i in range(len(c)):\n",
    "            label = labels[i]\n",
    "            class_corrects[label] += c[i].item()\n",
    "            class_total[label] += 1        "
   ]
  },
  {
   "cell_type": "code",
   "execution_count": 78,
   "metadata": {},
   "outputs": [],
   "source": [
    "def print_to_file(to_file, filename='model_evaluation'):\n",
    "    f = open(filename, 'a')\n",
    "    f.write(to_file)\n",
    "    f.close()"
   ]
  },
  {
   "cell_type": "code",
   "execution_count": 81,
   "metadata": {},
   "outputs": [],
   "source": [
    "for i in range(len(classes)):\n",
    "    print_to_file('Accuracy of class \"{}\" = {}\\n'.format(classes[i], class_corrects[i] / class_total[i]))\n",
    "\n",
    "conf_matrix = {'TP': class_corrects[0], 'FN': class_total[0] - class_corrects[0],\n",
    "                    'FP': class_total[1] - class_corrects[1], 'TN': class_corrects[1]}\n",
    "\n",
    "print_to_file('\\nPositive class = \"{}\"'.format(classes[0]))\n",
    "print_to_file('\\nNegative class = \"{}\"'.format(classes[1]))\n",
    "\n",
    "print_to_file('\\n\\nConfusion matrix: ')\n",
    "print_to_file('\\nTP = {}  ||  FN = {}'.format(conf_matrix['TP'], conf_matrix['FN']))\n",
    "print_to_file('\\nFP = {}  ||  TN = {}'.format(conf_matrix['FP'], conf_matrix['TN']))\n",
    "\n",
    "print_to_file('\\n\\nAccuracy = {}'.format((conf_matrix['TP'] + conf_matrix['TN']) / \n",
    "                             (conf_matrix['TP'] + conf_matrix['TN'] + conf_matrix['FP'] + conf_matrix['FN'])))\n",
    "print_to_file('\\nPrecision = {}'.format(conf_matrix['TP'] / (conf_matrix['TP'] + conf_matrix['FP'])))\n",
    "print_to_file('\\nRecall = {}'.format(conf_matrix['TP'] / (conf_matrix['TP'] + conf_matrix['FN'])))\n",
    "print_to_file('\\nF1 - measure = {}'. format(2 * conf_matrix['TP'] / \n",
    "                                            (2 * conf_matrix['TP'] + conf_matrix['FN'] + conf_matrix['FP'])))\n",
    "\n",
    "print_to_file('\\n\\nTrue Positive Rate = {}'.format(conf_matrix['TP'] / (conf_matrix['TP'] + conf_matrix['FN'])))\n",
    "print_to_file('\\nFalse Positive Rate = {}'.format(conf_matrix['FP'] / (conf_matrix['TN'] + conf_matrix['FP'])))\n",
    "\n",
    "print('Analysis measures saved to file.')"
   ]
  },
  {
   "cell_type": "code",
   "execution_count": null,
   "metadata": {},
   "outputs": [],
   "source": []
  }
 ],
 "metadata": {
  "kernelspec": {
   "display_name": "Python 3",
   "language": "python",
   "name": "python3"
  },
  "language_info": {
   "codemirror_mode": {
    "name": "ipython",
    "version": 3
   },
   "file_extension": ".py",
   "mimetype": "text/x-python",
   "name": "python",
   "nbconvert_exporter": "python",
   "pygments_lexer": "ipython3",
   "version": "3.6.4"
  }
 },
 "nbformat": 4,
 "nbformat_minor": 2
}
