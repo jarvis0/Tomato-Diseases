{
 "cells": [
  {
   "cell_type": "code",
   "execution_count": 1,
   "metadata": {},
   "outputs": [],
   "source": [
    "import torch\n",
    "import torch.nn as nn\n",
    "import torch.nn.functional as F\n",
    "import torch.optim as optim\n",
    "from torch.utils.data import ConcatDataset\n",
    "from torch.utils.data import DataLoader\n",
    "from torch.utils.data.dataset import random_split\n",
    "import torchvision.transforms as transforms\n",
    "import torchvision.datasets as datasets\n",
    "from tqdm import trange\n",
    "import os\n",
    "import argparse\n",
    "from tensorboardX import SummaryWriter\n",
    "import time\n",
    "import datetime"
   ]
  },
  {
   "cell_type": "code",
   "execution_count": 2,
   "metadata": {},
   "outputs": [],
   "source": [
    "def save_to_file(filename, to_file):\n",
    "    f = open(log_dir + filename, 'a+')\n",
    "    f.write(str(to_file))\n",
    "    f.close()"
   ]
  },
  {
   "cell_type": "code",
   "execution_count": 3,
   "metadata": {},
   "outputs": [],
   "source": [
    "ts = time.time()\n",
    "timestamp = datetime.datetime.fromtimestamp(ts).strftime('%Y-%m-%d h%Hm%Ms%S')\n",
    "\n",
    "if not os.path.exists('log/'):\n",
    "    os.mkdir('log/')\n",
    "    \n",
    "log_dir = 'log/' + timestamp + '/'\n",
    "os.mkdir(log_dir)"
   ]
  },
  {
   "cell_type": "code",
   "execution_count": 4,
   "metadata": {},
   "outputs": [
    {
     "name": "stderr",
     "output_type": "stream",
     "text": [
      "usage: ipykernel_launcher.py [-h] [--num_epochs NUM_EPOCHS]\n",
      "                             [--batch_size BATCH_SIZE] [--lr LR] [--wd WD]\n",
      "ipykernel_launcher.py: error: unrecognized arguments: -f /run/user/1000/jupyter/kernel-5268ba1a-8931-4ce2-9965-b14796e4c1c6.json\n"
     ]
    },
    {
     "ename": "SystemExit",
     "evalue": "2",
     "output_type": "error",
     "traceback": [
      "An exception has occurred, use %tb to see the full traceback.\n",
      "\u001b[0;31mSystemExit\u001b[0m\u001b[0;31m:\u001b[0m 2\n"
     ]
    },
    {
     "name": "stderr",
     "output_type": "stream",
     "text": [
      "/home/masch/miniconda3/lib/python3.6/site-packages/IPython/core/interactiveshell.py:2971: UserWarning: To exit: use 'exit', 'quit', or Ctrl-D.\n",
      "  warn(\"To exit: use 'exit', 'quit', or Ctrl-D.\", stacklevel=1)\n"
     ]
    }
   ],
   "source": [
    "parser = argparse.ArgumentParser(description='CNN hyperparameters.')\n",
    "parser.add_argument('--num_epochs', dest='num_epochs', default=20, type=int, required=False)\n",
    "parser.add_argument('--batch_size', dest='batch_size', default=16, type=int, required=False)\n",
    "parser.add_argument('--lr', dest='lr', default=0.001, type=float, required=False)\n",
    "parser.add_argument('--wd', dest='wd', default=0, type=float, required=False)\n",
    "\n",
    "args = parser.parse_args()\n",
    "num_epochs = args.num_epochs\n",
    "batch_size = args.batch_size\n",
    "lr = args.lr\n",
    "wd = args.wd\n",
    "\n",
    "save_to_file('infos', 'num_epochs={}, batch_size={}, lr={}, wd={}'.format(num_epochs, batch_size, lr, wd))"
   ]
  },
  {
   "cell_type": "code",
   "execution_count": 7,
   "metadata": {},
   "outputs": [],
   "source": [
    "device = torch.device(\"cuda:0\" if torch.cuda.is_available() else \"cpu\")\n",
    "data_dir = '../augmented_data/'"
   ]
  },
  {
   "cell_type": "code",
   "execution_count": 8,
   "metadata": {},
   "outputs": [],
   "source": [
    "mean = [0.44947562, 0.46524084, 0.40037745]\n",
    "std = [0.18456618, 0.16353698, 0.20014246]\n",
    "\n",
    "data_transforms = {\n",
    "        'train': transforms.Compose([\n",
    "        transforms.ToTensor(),\n",
    "        transforms.Normalize(mean, std)])}\n",
    "\n",
    "image_datasets = {x: datasets.ImageFolder(os.path.join(data_dir, x),\n",
    "                    data_transforms[x]) for x in ['train']}\n",
    "num_folds = 10\n",
    "splits = []\n",
    "for i in range(num_folds):\n",
    "    splits.append('split' + str(i))\n",
    "\n",
    "train_dataset_len = len(image_datasets['train'])\n",
    "\n",
    "splits_size = []\n",
    "overall_splits_size = 0\n",
    "for i in range(num_folds - 1):\n",
    "    overall_splits_size += train_dataset_len // num_folds\n",
    "    splits_size.append(train_dataset_len // num_folds)\n",
    "splits_size.append(train_dataset_len - overall_splits_size)\n",
    "\n",
    "random_splits = random_split(image_datasets['train'], splits_size)\n",
    "del image_datasets['train']\n",
    "for i in range(num_folds):\n",
    "    image_datasets[splits[i]] = random_splits[i]"
   ]
  },
  {
   "cell_type": "code",
   "execution_count": 6,
   "metadata": {
    "scrolled": true
   },
   "outputs": [],
   "source": [
    "class Model(nn.Module):\n",
    "    def __init__(self):\n",
    "        super(Model, self).__init__()\n",
    "        # 3 input image channel,\n",
    "        # 6 output channel,\n",
    "        # 5x5 square convolution kernel\n",
    "        self.conv1 = nn.Conv2d(3, 6, 5)\n",
    "        self.pool = nn.MaxPool2d(2)\n",
    "        self.conv2 = nn.Conv2d(6, 16, 5)\n",
    "        # an affine operation\n",
    "        self.fc1 = nn.Linear(16 * 61 * 61, 120)\n",
    "        self.fc2 = nn.Linear(120, 84)\n",
    "        self.fc3 = nn.Linear(84, 1)\n",
    "        \n",
    "        nn.init.xavier_normal_(self.conv1.weight)\n",
    "        nn.init.xavier_normal_(self.conv2.weight)\n",
    "        nn.init.xavier_normal_(self.fc1.weight)\n",
    "        nn.init.xavier_normal_(self.fc2.weight)\n",
    "        nn.init.xavier_normal_(self.fc3.weight)\n",
    "        \n",
    "    def forward(self, x):\n",
    "        # max pooling over a (2, 2) windows\n",
    "        x = self.pool(F.relu(self.conv1(x)))\n",
    "        x = self.pool(F.relu(self.conv2(x)))\n",
    "        x = x.view(-1, self.num_flat_features(x))\n",
    "        x = F.relu(self.fc1(x))\n",
    "        x = F.relu(self.fc2(x))\n",
    "        x = self.fc3(x)\n",
    "        return x\n",
    "    \n",
    "    def num_flat_features(self, x):\n",
    "        size = x.size()[1:]\n",
    "        num_features = 1\n",
    "        for s in size:\n",
    "            num_features *= s\n",
    "        return num_features"
   ]
  },
  {
   "cell_type": "code",
   "execution_count": null,
   "metadata": {},
   "outputs": [],
   "source": [
    "def build_dataloaders(validation_set):\n",
    "    datasets = {}\n",
    "    datasets['train'] = []\n",
    "    for split in range(num_folds):\n",
    "        k = 'split' + str(split)\n",
    "        if split != validation_set:\n",
    "            datasets['train'] = ConcatDataset([datasets['train'], image_datasets[k]])\n",
    "        else:\n",
    "            # validation set\n",
    "            datasets['val'] = image_datasets[k]\n",
    "            \n",
    "    dataset_sizes = {x: len(datasets[x]) for x in ['train', 'val']}\n",
    "    \n",
    "    # creating dataloaders\n",
    "    dataloaders = {x: DataLoader(datasets[x], batch_size=batch_size,\n",
    "                        shuffle=True, num_workers=4) for x in ['train', 'val']}\n",
    "    \n",
    "    return dataloaders, dataset_sizes"
   ]
  },
  {
   "cell_type": "code",
   "execution_count": null,
   "metadata": {},
   "outputs": [],
   "source": [
    "folds_performances = {}\n",
    "for validation_set in trange(num_folds, desc='Folds iterations: ', bar_format='{desc}{r_bar}'):\n",
    "    \n",
    "    writer = SummaryWriter(log_dir + 'Fold ' + str(validation_set))\n",
    "    dataloaders, dataset_sizes = build_dataloaders(validation_set)\n",
    "    \n",
    "    model = Model()\n",
    "    model.to(device)\n",
    "    optimizer = optim.Adam(model.parameters(), lr=lr, weight_decay=wd)\n",
    "    #optimizer = optim.SGD(model.parameters(), lr=0.001, momentum=0.9)\n",
    "    #exp_lr_scheduler = lr_scheduler.StepLR(optimizer, step_size=7, gamma=0.1)\n",
    "    \n",
    "    folds_performances[validation_set] = []\n",
    "    epoch_progress = trange(num_epochs, desc='Fold {}, epoch 0 - val loss: ? acc: ?'.format(validation_set),\n",
    "                            bar_format='{desc}{r_bar}')\n",
    "    for epoch in epoch_progress:  # loop over the dataset multiple epochs\n",
    "\n",
    "        #training and validation part\n",
    "        for phase in ['train', 'val']:\n",
    "            \n",
    "            if phase == 'train':\n",
    "                #exp_lr_scheduler.step()\n",
    "                model.train()  # Set to training mode\n",
    "            else:\n",
    "                model.eval()  # Set model to evaluate mode\n",
    "                \n",
    "            running_loss = 0.0\n",
    "            running_corrects = 0\n",
    "\n",
    "            # iterate over the data\n",
    "            for inputs, labels in dataloaders[phase]:\n",
    "\n",
    "                # get the inputs\n",
    "                inputs, labels = inputs.to(device), labels.to(device)\n",
    "\n",
    "                optimizer.zero_grad() # zero the gradient buffers\n",
    "\n",
    "                # forward + loss\n",
    "                outputs = model(inputs)\n",
    "                loss = nn.BCEWithLogitsLoss()(outputs.view(-1), labels.float())\n",
    "                \n",
    "                if phase == 'train':\n",
    "                    # backward + optimize\n",
    "                    loss.backward()\n",
    "                    optimizer.step() # does the update\n",
    "\n",
    "                # statistics\n",
    "                running_loss += loss.data.item() * inputs.size(0)\n",
    "                \n",
    "                preds = torch.round(F.sigmoid(outputs))\n",
    "                running_corrects += torch.sum(preds.view(-1) == labels.data.float())\n",
    "                \n",
    "            epoch_loss = running_loss / dataset_sizes[phase]\n",
    "            epoch_acc = running_corrects.data.item() / dataset_sizes[phase]\n",
    "            \n",
    "            # tensorboard statistics\n",
    "            if phase == 'train':\n",
    "                writer.add_scalar('/train_loss', epoch_loss, epoch)\n",
    "                writer.add_scalar('/train_accuracy', epoch_acc, epoch)\n",
    "            else:\n",
    "                writer.add_scalar('/val_loss', epoch_loss, epoch)\n",
    "                writer.add_scalar('/val_accuracy', epoch_acc, epoch)\n",
    "\n",
    "        folds_performances[validation_set].append(epoch_acc)\n",
    "        epoch_progress.set_description('Fold {}, epoch {} - val loss: {:.4f} acc: {:.4f}'.format(\n",
    "                validation_set, epoch, epoch_loss, epoch_acc), refresh=False)\n",
    "\n",
    "print('K-fold cross-validation is over.')"
   ]
  },
  {
   "cell_type": "code",
   "execution_count": null,
   "metadata": {},
   "outputs": [],
   "source": [
    "save_to_file('folds_performances', folds_performances)\n",
    "\n",
    "# Statistical approach\n",
    "total_epoch_performace = [0] * num_epochs\n",
    "for epoch in range(0, num_epochs):\n",
    "    for i in range (0, num_folds):\n",
    "        total_epoch_performace[epoch] += folds_performances[i][epoch]\n",
    "\n",
    "# Mitchell approach\n",
    "total_max_performance = [0] * num_folds\n",
    "for i in folds_performances:\n",
    "    total_max_performance[i] = folds_performances[i].index(max(folds_performances[i]))\n",
    "\n",
    "save_to_file('infos', '\\nStatistical best number of epochs: {}'.format(\n",
    "                                                                total_epoch_performace.index(max(total_epoch_performace))))\n",
    "save_to_file('infos', '\\nMitchell average best number of epochs: {}'.format(\n",
    "                                                                sum(total_max_performance) / num_folds))"
   ]
  },
  {
   "cell_type": "code",
   "execution_count": null,
   "metadata": {},
   "outputs": [],
   "source": []
  }
 ],
 "metadata": {
  "kernelspec": {
   "display_name": "Python 3",
   "language": "python",
   "name": "python3"
  },
  "language_info": {
   "codemirror_mode": {
    "name": "ipython",
    "version": 3
   },
   "file_extension": ".py",
   "mimetype": "text/x-python",
   "name": "python",
   "nbconvert_exporter": "python",
   "pygments_lexer": "ipython3",
   "version": "3.6.4"
  }
 },
 "nbformat": 4,
 "nbformat_minor": 2
}
