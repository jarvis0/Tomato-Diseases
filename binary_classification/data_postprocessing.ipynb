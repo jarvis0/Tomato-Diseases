{
 "cells": [
  {
   "cell_type": "code",
   "execution_count": 1,
   "metadata": {},
   "outputs": [],
   "source": [
    "import numpy as np\n",
    "import json"
   ]
  },
  {
   "cell_type": "code",
   "execution_count": 2,
   "metadata": {},
   "outputs": [
    {
     "name": "stdout",
     "output_type": "stream",
     "text": [
      "0.9961556169429097\n",
      "14\n",
      "0.0011777736247012274\n",
      "\n",
      "\n",
      "0.9947974217311236\n",
      "10\n",
      "0.0018835298185931044\n",
      "\n",
      "\n",
      "0.9952888888888888\n",
      "14\n",
      "0.0015630331544709093\n",
      "\n",
      "\n"
     ]
    }
   ],
   "source": [
    "data_dir = 'log/'\n",
    "num_folds = 10\n",
    "num_epochs = 15\n",
    "experiments = ['2018-05-03 h20m42s17', '2018-05-04 h01m07s52', '2018-05-04 h06m11s23']\n",
    "\n",
    "for experiment in experiments:\n",
    "    with open(data_dir + experiment + '/folds_performances') as f:\n",
    "        data = json.load(f)\n",
    "\n",
    "    performances = {}\n",
    "    for i in range(num_folds):\n",
    "        performances[i] = data[str(i)]\n",
    "\n",
    "    total_epoch_performace = [0] * num_epochs\n",
    "    for epoch in range(0, num_epochs):\n",
    "        for k in range (0, num_folds):\n",
    "            total_epoch_performace[epoch] += performances[k][epoch]\n",
    "        total_epoch_performace[epoch] /= num_folds\n",
    "        \n",
    "    print(max(total_epoch_performace))\n",
    "    print(total_epoch_performace.index(max(total_epoch_performace)))\n",
    "    \n",
    "    total_fold_performance = [0] * num_folds\n",
    "    for k in range(0, num_folds):\n",
    "        for epoch in range(0, num_epochs):\n",
    "            total_fold_performance[k] += performances[k][epoch]\n",
    "        total_fold_performance[k] /= num_epochs\n",
    "    print(np.asarray(total_fold_performance).std())\n",
    "    \n",
    "    print('\\n')"
   ]
  },
  {
   "cell_type": "code",
   "execution_count": null,
   "metadata": {},
   "outputs": [],
   "source": []
  }
 ],
 "metadata": {
  "kernelspec": {
   "display_name": "Python 3",
   "language": "python",
   "name": "python3"
  },
  "language_info": {
   "codemirror_mode": {
    "name": "ipython",
    "version": 3
   },
   "file_extension": ".py",
   "mimetype": "text/x-python",
   "name": "python",
   "nbconvert_exporter": "python",
   "pygments_lexer": "ipython3",
   "version": "3.6.4"
  }
 },
 "nbformat": 4,
 "nbformat_minor": 2
}
