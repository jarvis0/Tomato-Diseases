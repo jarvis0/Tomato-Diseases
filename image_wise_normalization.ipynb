{
 "cells": [
  {
   "cell_type": "code",
   "execution_count": 5,
   "metadata": {},
   "outputs": [],
   "source": [
    "import os\n",
    "from PIL import Image\n",
    "import numpy as np"
   ]
  },
  {
   "cell_type": "code",
   "execution_count": 31,
   "metadata": {},
   "outputs": [],
   "source": [
    "def normalize(image):\n",
    "    image = image.astype('float')\n",
    "    for i in range(3):\n",
    "        minval = image[...,i].min()\n",
    "        maxval = image[...,i].max()\n",
    "        if minval != maxval:\n",
    "            image[...,i] -= minval\n",
    "            image[...,i] *= (255.0/(maxval-minval))\n",
    "    return image"
   ]
  },
  {
   "cell_type": "code",
   "execution_count": 32,
   "metadata": {},
   "outputs": [],
   "source": [
    "def apply_normalization(src):\n",
    "    for img in os.listdir(src):\n",
    "        image = Image.open(src + img)\n",
    "        image = np.array(image)\n",
    "        new_img = Image.fromarray(normalize(image).astype('uint8'),'RGB')\n",
    "        \n",
    "        new_img.save(src + img.replace('.jpg','.png'), 'png')"
   ]
  },
  {
   "cell_type": "code",
   "execution_count": null,
   "metadata": {},
   "outputs": [],
   "source": [
    "folders = ['train', 'val']\n",
    "classes = sorted(os.listdir(\"augmented_data/\" + folders[0]))\n",
    "\n",
    "for folder in folders:\n",
    "    for clss in classes:\n",
    "        src = \"augmented_data/\" + folder + '/' + clss + '/'\n",
    "        apply_normalization(src)"
   ]
  },
  {
   "cell_type": "code",
   "execution_count": null,
   "metadata": {},
   "outputs": [],
   "source": []
  }
 ],
 "metadata": {
  "kernelspec": {
   "display_name": "Python 3",
   "language": "python",
   "name": "python3"
  },
  "language_info": {
   "codemirror_mode": {
    "name": "ipython",
    "version": 3
   },
   "file_extension": ".py",
   "mimetype": "text/x-python",
   "name": "python",
   "nbconvert_exporter": "python",
   "pygments_lexer": "ipython3",
   "version": "3.6.3"
  }
 },
 "nbformat": 4,
 "nbformat_minor": 2
}
