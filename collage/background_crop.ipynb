{
 "cells": [
  {
   "cell_type": "code",
   "execution_count": 9,
   "metadata": {},
   "outputs": [],
   "source": [
    "from PIL import Image\n",
    "import os\n",
    "##import Image\n",
    "dest = './backgrounds'\n",
    "def crop(directory, path, height, width, k, page):\n",
    "    im = Image.open(directory+ '/' + path)\n",
    "    imgwidth, imgheight = im.size\n",
    "    for i in range(0,imgheight,height):\n",
    "        for j in range(0,imgwidth,width):\n",
    "            box = (j, i, j+width, i+height)\n",
    "            if box[2] < imgwidth and box[3] < imgheight:\n",
    "                a = im.crop(box)\n",
    "                a.save(dest +'/background'+str(k)+\".png\",\"PNG\")\n",
    "                k +=1\n",
    "    return k"
   ]
  },
  {
   "cell_type": "code",
   "execution_count": 10,
   "metadata": {},
   "outputs": [],
   "source": [
    "directory = './tomato_backgrounds'\n",
    "k = 3251\n",
    "for image in os.listdir(directory):\n",
    "   k = crop(directory, image, 256, 256, k, 0)"
   ]
  },
  {
   "cell_type": "code",
   "execution_count": null,
   "metadata": {},
   "outputs": [],
   "source": []
  }
 ],
 "metadata": {
  "kernelspec": {
   "display_name": "Python 3",
   "language": "python",
   "name": "python3"
  },
  "language_info": {
   "codemirror_mode": {
    "name": "ipython",
    "version": 3
   },
   "file_extension": ".py",
   "mimetype": "text/x-python",
   "name": "python",
   "nbconvert_exporter": "python",
   "pygments_lexer": "ipython3",
   "version": "3.6.5"
  }
 },
 "nbformat": 4,
 "nbformat_minor": 2
}
