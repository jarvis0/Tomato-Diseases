{
 "cells": [
  {
   "cell_type": "code",
   "execution_count": 1,
   "metadata": {},
   "outputs": [],
   "source": [
    "import os\n",
    "from PIL import Image\n",
    "import matplotlib.pyplot as plt\n",
    "import numpy as np\n",
    "import random\n",
    "\n",
    "%matplotlib inline"
   ]
  },
  {
   "cell_type": "code",
   "execution_count": 2,
   "metadata": {},
   "outputs": [],
   "source": [
    "def show_image(image):\n",
    "    plt.imshow(np.asarray(image))\n",
    "    plt.pause(0.001)"
   ]
  },
  {
   "cell_type": "code",
   "execution_count": null,
   "metadata": {},
   "outputs": [],
   "source": [
    "data_dir = '../original_dataset/'\n",
    "classes = os.listdir(data_dir)\n",
    "crop_size = 8\n",
    "crop_list = []\n",
    "\n",
    "for clss in classes:\n",
    "    src = data_dir + clss + '/'\n",
    "    for image in os.listdir(src):\n",
    "        im = Image.open(src + image)\n",
    "        black_counter = 0\n",
    "        for item in im.getdata():\n",
    "            if item[0] < 15 and item[1] < 10 and item[2] < 15:\n",
    "                black_counter += 1\n",
    "        if(black_counter < crop_size * crop_size / 2):\n",
    "            im = im.crop((0, 0, crop_size, crop_size))\n",
    "            crop_list.append(im)"
   ]
  },
  {
   "cell_type": "code",
   "execution_count": null,
   "metadata": {},
   "outputs": [],
   "source": [
    "def background_calculator():    \n",
    "    im_size = 256\n",
    "    image = Image.new('RGB', (im_size, im_size))\n",
    "    for i in range(0,im_size//crop_size):\n",
    "        for j in range (0,im_size//crop_size):\n",
    "            random_background = crop_list[random.randint(0, len(crop_list) - 1)]\n",
    "            image.paste(random_background, (i * crop_size, j * crop_size))\n",
    "    return image"
   ]
  },
  {
   "cell_type": "code",
   "execution_count": null,
   "metadata": {},
   "outputs": [],
   "source": [
    "def apply_background(src):\n",
    "    for img in os.listdir(src):\n",
    "        background = background_calculator()\n",
    "        image = Image.open(src + img)\n",
    "        background.paste(image, (0,0), image)\n",
    "        background.save(src + img, \"PNG\")"
   ]
  },
  {
   "cell_type": "code",
   "execution_count": null,
   "metadata": {},
   "outputs": [],
   "source": [
    "folders = ['val', 'train']\n",
    "classes = sorted(os.listdir(folders[0]))\n",
    "\n",
    "for folder in folders:\n",
    "    for clss in classes:\n",
    "        src = folder + '/' + clss + '/'\n",
    "        apply_background(src)"
   ]
  },
  {
   "cell_type": "code",
   "execution_count": null,
   "metadata": {},
   "outputs": [],
   "source": []
  }
 ],
 "metadata": {
  "kernelspec": {
   "display_name": "Python 3",
   "language": "python",
   "name": "python3"
  },
  "language_info": {
   "codemirror_mode": {
    "name": "ipython",
    "version": 3
   },
   "file_extension": ".py",
   "mimetype": "text/x-python",
   "name": "python",
   "nbconvert_exporter": "python",
   "pygments_lexer": "ipython3",
   "version": "3.6.4"
  }
 },
 "nbformat": 4,
 "nbformat_minor": 2
}
