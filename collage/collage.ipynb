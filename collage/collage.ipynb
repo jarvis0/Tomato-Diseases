{
 "cells": [
  {
   "cell_type": "code",
   "execution_count": 17,
   "metadata": {},
   "outputs": [],
   "source": [
    "from PIL import Image\n",
    "import os\n",
    "import random"
   ]
  },
  {
   "cell_type": "code",
   "execution_count": 18,
   "metadata": {},
   "outputs": [],
   "source": [
    "data_dir = 'segmented_dataset/'\n",
    "classes = os.listdir(data_dir)"
   ]
  },
  {
   "cell_type": "code",
   "execution_count": 110,
   "metadata": {},
   "outputs": [],
   "source": [
    "for clss in classes:\n",
    "    src = data_dir + clss + '/'\n",
    "    \n",
    "    for i in range(10):\n",
    "        background = Image.open('background_1024.png')\n",
    "        for k1 in [0, 192, 384, 576]:\n",
    "            for k2 in [0, 192, 384, 576]:\n",
    "                for j in range(2):\n",
    "                    img = random.choice(os.listdir(src))\n",
    "                    image = Image.open(src + img)\n",
    "                    image_w, image_h = image.size\n",
    "                    bg_w, bg_h = background.size\n",
    "                    offset = (random.randint(k1, k1+192), random.randint(k2, k2+192))\n",
    "                    background.paste(image, offset, image)\n",
    "        background.save('out.png')\n",
    "        break"
   ]
  },
  {
   "cell_type": "code",
   "execution_count": null,
   "metadata": {},
   "outputs": [],
   "source": []
  }
 ],
 "metadata": {
  "kernelspec": {
   "display_name": "Python 3",
   "language": "python",
   "name": "python3"
  },
  "language_info": {
   "codemirror_mode": {
    "name": "ipython",
    "version": 3
   },
   "file_extension": ".py",
   "mimetype": "text/x-python",
   "name": "python",
   "nbconvert_exporter": "python",
   "pygments_lexer": "ipython3",
   "version": "3.6.3"
  }
 },
 "nbformat": 4,
 "nbformat_minor": 2
}
