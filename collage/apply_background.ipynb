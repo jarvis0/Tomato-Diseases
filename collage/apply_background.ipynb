{
 "cells": [
  {
   "cell_type": "code",
   "execution_count": 5,
   "metadata": {},
   "outputs": [],
   "source": [
    "from PIL import Image\n",
    "import os\n",
    "import random\n",
    "import shutil"
   ]
  },
  {
   "cell_type": "code",
   "execution_count": 6,
   "metadata": {},
   "outputs": [],
   "source": [
    "alpha_folder = \"../alpha_data\"\n",
    "folders = ['train', 'val']\n",
    "augmented_folder = \"../augmented_data\"\n",
    "classes = sorted(os.listdir(folders[0]))\n",
    "background_folder = 'backgrounds'\n",
    "\n",
    "if os.path.exists(augmented_folder):\n",
    "    shutil.rmtree(augmented_folder)\n",
    "os.mkdir(augmented_folder)"
   ]
  },
  {
   "cell_type": "code",
   "execution_count": 7,
   "metadata": {},
   "outputs": [
    {
     "name": "stdout",
     "output_type": "stream",
     "text": [
      "../alpha_data/train/Bacterial_spot/\n",
      "../alpha_data/train/Early_blight/\n",
      "../alpha_data/train/Late_blight/\n",
      "../alpha_data/train/Leaf_Mold/\n",
      "../alpha_data/train/Septoria_leaf_spot/\n",
      "../alpha_data/train/Spider_mites Two-spotted_spider_mite/\n",
      "../alpha_data/train/Target_Spot/\n",
      "../alpha_data/train/Tomato_Yellow_Leaf_Curl_Virus/\n",
      "../alpha_data/train/Tomato_mosaic_virus/\n",
      "../alpha_data/train/healthy/\n",
      "../alpha_data/val/Bacterial_spot/\n",
      "../alpha_data/val/Early_blight/\n",
      "../alpha_data/val/Late_blight/\n",
      "../alpha_data/val/Leaf_Mold/\n",
      "../alpha_data/val/Septoria_leaf_spot/\n",
      "../alpha_data/val/Spider_mites Two-spotted_spider_mite/\n",
      "../alpha_data/val/Target_Spot/\n",
      "../alpha_data/val/Tomato_Yellow_Leaf_Curl_Virus/\n",
      "../alpha_data/val/Tomato_mosaic_virus/\n",
      "../alpha_data/val/healthy/\n"
     ]
    }
   ],
   "source": [
    "def apply_background(src, dest):\n",
    "    for img in os.listdir(src):\n",
    "        background = Image.open(background_folder + '/' + random.choice(os.listdir(background_folder)))\n",
    "        image = Image.open(src + img)\n",
    "        background.paste(image, (0,0), image)\n",
    "        background = background.convert('RGB')\n",
    "        background.save(dest + img, \"PNG\")\n",
    "        \n",
    "for folder in folders:\n",
    "    if os.path.exists(augmented_folder + '/' + folder):\n",
    "        shutil.rmtree(augmented_folder + '/' + folder)\n",
    "    os.mkdir(augmented_folder + '/' + folder)\n",
    "    for clss in classes:\n",
    "        if os.path.exists(augmented_folder+ '/' + folder + '/' + clss):\n",
    "            shutil.rmtree(augmented_folder+ '/' + folder + '/' + clss)\n",
    "        dest = augmented_folder+ '/' + folder + '/' + clss + '/'\n",
    "        os.mkdir(dest)\n",
    "        src = alpha_folder + '/' + folder + '/' + clss + '/'\n",
    "        print(src)\n",
    "        apply_background(src, dest)"
   ]
  },
  {
   "cell_type": "code",
   "execution_count": null,
   "metadata": {},
   "outputs": [],
   "source": []
  }
 ],
 "metadata": {
  "kernelspec": {
   "display_name": "Python 3",
   "language": "python",
   "name": "python3"
  },
  "language_info": {
   "codemirror_mode": {
    "name": "ipython",
    "version": 3
   },
   "file_extension": ".py",
   "mimetype": "text/x-python",
   "name": "python",
   "nbconvert_exporter": "python",
   "pygments_lexer": "ipython3",
   "version": "3.6.4"
  }
 },
 "nbformat": 4,
 "nbformat_minor": 2
}
