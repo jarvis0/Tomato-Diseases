{
 "cells": [
  {
   "cell_type": "code",
   "execution_count": 4,
   "metadata": {},
   "outputs": [],
   "source": [
    "from PIL import Image\n",
    "import os\n",
    "import shutil\n",
    "import concurrent"
   ]
  },
  {
   "cell_type": "code",
   "execution_count": 5,
   "metadata": {},
   "outputs": [],
   "source": [
    "folders = ['segmented_test']#['train', 'val']\n",
    "classes = os.listdir('../augmented_data/val')\n",
    "data_dir = '../alpha_data/'"
   ]
  },
  {
   "cell_type": "code",
   "execution_count": 7,
   "metadata": {},
   "outputs": [],
   "source": [
    "#if os.path.exists(data_dir):\n",
    "#    shutil.rmtree(data_dir)\n",
    "#os.mkdir(data_dir)\n",
    "\n",
    "def f(folder, clss):\n",
    "    os.mkdir(data_dir+ '/' + folder + '/' + clss)\n",
    "    src = '../augmented_data/'+ folder + '/' + clss + '/'\n",
    "    for img in os.listdir(src):\n",
    "        image = Image.open(src + img)\n",
    "        image = image.convert('RGBA')\n",
    "        datas = image.getdata()\n",
    "        print(datas.shape)\n",
    "\n",
    "        new_data = []\n",
    "        for item in datas:\n",
    "            if item[0] < 15 and item[1] < 10 and item[2] < 15:\n",
    "                new_data.append((255, 255, 255, 0))\n",
    "            else:\n",
    "                new_data.append(item)\n",
    "\n",
    "        image.putdata(new_data)\n",
    "        image.save(data_dir + folder + '/' + clss + '/' + img.replace('.jpg', '.png'), \"PNG\")\n",
    "\n",
    "workers = len(classes)\n",
    "with concurrent.futures.ThreadPoolExecutor(max_workers=workers) as executor:\n",
    "    for folder in folders:\n",
    "        if os.path.exists(data_dir+ '/' + folder):\n",
    "            shutil.rmtree(data_dir+ '/' + folder)\n",
    "        os.mkdir(data_dir+ '/' + folder)\n",
    "        for clss in classes:\n",
    "            executor.submit(f, folder, clss)\n",
    "        "
   ]
  },
  {
   "cell_type": "code",
   "execution_count": null,
   "metadata": {},
   "outputs": [],
   "source": []
  }
 ],
 "metadata": {
  "kernelspec": {
   "display_name": "Python 3",
   "language": "python",
   "name": "python3"
  },
  "language_info": {
   "codemirror_mode": {
    "name": "ipython",
    "version": 3
   },
   "file_extension": ".py",
   "mimetype": "text/x-python",
   "name": "python",
   "nbconvert_exporter": "python",
   "pygments_lexer": "ipython3",
   "version": "3.6.4"
  }
 },
 "nbformat": 4,
 "nbformat_minor": 2
}
