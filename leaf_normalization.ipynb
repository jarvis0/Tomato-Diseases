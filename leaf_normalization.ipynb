{
 "cells": [
  {
   "cell_type": "code",
   "execution_count": 2,
   "metadata": {},
   "outputs": [],
   "source": [
    "from PIL import Image\n",
    "import numpy as np\n",
    "import os"
   ]
  },
  {
   "cell_type": "code",
   "execution_count": 12,
   "metadata": {},
   "outputs": [],
   "source": [
    "data_dir = 'original_segmented_dataset/'\n",
    "classes = sorted(os.listdir(data_dir))"
   ]
  },
  {
   "cell_type": "code",
   "execution_count": 15,
   "metadata": {},
   "outputs": [],
   "source": [
    "leaf = {}\n",
    "leaf['r'] = []\n",
    "leaf['g'] = []\n",
    "leaf['b'] = []\n",
    "for clss in classes:\n",
    "    src = data_dir + clss + '/'\n",
    "    for image in os.listdir(src):\n",
    "        im = Image.open(src + image)\n",
    "        for item in im.getdata():\n",
    "            if not(item[0] < 15 and item[1] < 10 and item[2] < 15):\n",
    "                leaf['r'].append(item[0])\n",
    "                leaf['g'].append(item[1])\n",
    "                leaf['b'].append(item[2])\n"
   ]
  },
  {
   "cell_type": "code",
   "execution_count": null,
   "metadata": {},
   "outputs": [],
   "source": [
    "print([np.asarray((leaf['r'])).mean(), np.asarray((leaf['g'])).mean(), np.asarray((leaf['b'])).mean()])\n",
    "print([np.asarray((leaf['r'])).std(), np.asarray((leaf['g'])).std(), np.asarray((leaf['b'])).std()])"
   ]
  },
  {
   "cell_type": "code",
   "execution_count": null,
   "metadata": {},
   "outputs": [],
   "source": []
  }
 ],
 "metadata": {
  "kernelspec": {
   "display_name": "Python 3",
   "language": "python",
   "name": "python3"
  },
  "language_info": {
   "codemirror_mode": {
    "name": "ipython",
    "version": 3
   },
   "file_extension": ".py",
   "mimetype": "text/x-python",
   "name": "python",
   "nbconvert_exporter": "python",
   "pygments_lexer": "ipython3",
   "version": "3.6.4"
  }
 },
 "nbformat": 4,
 "nbformat_minor": 2
}
